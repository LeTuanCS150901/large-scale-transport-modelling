{
 "cells": [
  {
   "cell_type": "code",
   "execution_count": 2,
   "id": "99afbbf7-5405-4ba8-a6aa-b1743f9822c5",
   "metadata": {},
   "outputs": [],
   "source": [
    "import numpy as np\n",
    "import pandas as pd\n",
    "#import geopandas as gpd\n",
    "import plotly.express as px\n",
    "import os\n",
    "\n",
    "import matplotlib.pyplot as plt\n",
    "%matplotlib inline"
   ]
  },
  {
   "cell_type": "markdown",
   "id": "8c4e08f3-3258-40f0-8c3e-da694f7ca4b7",
   "metadata": {},
   "source": [
    "# Exploration\n",
    "\n",
    "The purpose of this notebook is to get familiar with the relevant data sets that are used during the course. You will see examples of how to work with numpy, pandas and plotting libraries. "
   ]
  },
  {
   "cell_type": "markdown",
   "id": "234926a8-5b98-4a15-a28c-d42a17d9b6d8",
   "metadata": {},
   "source": [
    "## Detailed population data"
   ]
  },
  {
   "cell_type": "markdown",
   "id": "4c8c397d-9f70-447f-a241-a7a045ae9295",
   "metadata": {},
   "source": [
    "INSEE provides detailed population information per municipality as open data:\n",
    "\n",
    "- Go to https://www.insee.fr/fr/statistiques/6544333\n",
    "- Download \"Individus localisés au canton-ou-ville\" in CSV format\n",
    "- Put the downloaded zip file into the folder that contains this notebook\n",
    "- Unpack the zip file so that the CSV file is located next to this notebook\n",
    "- Alternatively call the following cell if you are using Linux"
   ]
  },
  {
   "cell_type": "code",
   "execution_count": 37,
   "id": "705887b6-4719-4000-8d7e-028b9e84f784",
   "metadata": {},
   "outputs": [],
   "source": [
    "if not os.path.exists(\"FD_INDCVI_2019.csv\"):\n",
    "    !wget https://www.insee.fr/fr/statistiques/fichier/6544333/RP2019_INDCVI_csv.zip\n",
    "    !unzip RP2019_INDCVI_csv.zip"
   ]
  },
  {
   "cell_type": "markdown",
   "id": "6c17a5bc-1467-4421-b283-0401b2e160d9",
   "metadata": {},
   "source": [
    "Next, load a chunk of the data to see what is contained in the file:"
   ]
  },
  {
   "cell_type": "code",
   "execution_count": 38,
   "id": "1beec7c2-7d52-4722-8e27-5506711b9a64",
   "metadata": {},
   "outputs": [
    {
     "data": {
      "text/html": [
       "<div>\n",
       "<style scoped>\n",
       "    .dataframe tbody tr th:only-of-type {\n",
       "        vertical-align: middle;\n",
       "    }\n",
       "\n",
       "    .dataframe tbody tr th {\n",
       "        vertical-align: top;\n",
       "    }\n",
       "\n",
       "    .dataframe thead th {\n",
       "        text-align: right;\n",
       "    }\n",
       "</style>\n",
       "<table border=\"1\" class=\"dataframe\">\n",
       "  <thead>\n",
       "    <tr style=\"text-align: right;\">\n",
       "      <th></th>\n",
       "      <th>CANTVILLE</th>\n",
       "      <th>NUMMI</th>\n",
       "      <th>ACHLR</th>\n",
       "      <th>AEMMR</th>\n",
       "      <th>AGED</th>\n",
       "      <th>AGER20</th>\n",
       "      <th>AGEREV</th>\n",
       "      <th>AGEREVQ</th>\n",
       "      <th>ANAI</th>\n",
       "      <th>ANEMR</th>\n",
       "      <th>...</th>\n",
       "      <th>TP</th>\n",
       "      <th>TRANS</th>\n",
       "      <th>TRIRIS</th>\n",
       "      <th>TYPC</th>\n",
       "      <th>TYPFC</th>\n",
       "      <th>TYPL</th>\n",
       "      <th>TYPMC</th>\n",
       "      <th>TYPMR</th>\n",
       "      <th>VOIT</th>\n",
       "      <th>WC</th>\n",
       "    </tr>\n",
       "  </thead>\n",
       "  <tbody>\n",
       "    <tr>\n",
       "      <th>0</th>\n",
       "      <td>101</td>\n",
       "      <td>1</td>\n",
       "      <td>4</td>\n",
       "      <td>9</td>\n",
       "      <td>68</td>\n",
       "      <td>79</td>\n",
       "      <td>67</td>\n",
       "      <td>65</td>\n",
       "      <td>1949</td>\n",
       "      <td>1</td>\n",
       "      <td>...</td>\n",
       "      <td>Z</td>\n",
       "      <td>Z</td>\n",
       "      <td>ZZZZZZ</td>\n",
       "      <td>3</td>\n",
       "      <td>Z</td>\n",
       "      <td>2</td>\n",
       "      <td>1</td>\n",
       "      <td>11</td>\n",
       "      <td>1</td>\n",
       "      <td>Z</td>\n",
       "    </tr>\n",
       "    <tr>\n",
       "      <th>1</th>\n",
       "      <td>101</td>\n",
       "      <td>2</td>\n",
       "      <td>5</td>\n",
       "      <td>9</td>\n",
       "      <td>33</td>\n",
       "      <td>39</td>\n",
       "      <td>32</td>\n",
       "      <td>30</td>\n",
       "      <td>1983</td>\n",
       "      <td>0</td>\n",
       "      <td>...</td>\n",
       "      <td>1</td>\n",
       "      <td>5</td>\n",
       "      <td>ZZZZZZ</td>\n",
       "      <td>2</td>\n",
       "      <td>2</td>\n",
       "      <td>1</td>\n",
       "      <td>4</td>\n",
       "      <td>41</td>\n",
       "      <td>2</td>\n",
       "      <td>Z</td>\n",
       "    </tr>\n",
       "    <tr>\n",
       "      <th>2</th>\n",
       "      <td>101</td>\n",
       "      <td>2</td>\n",
       "      <td>5</td>\n",
       "      <td>9</td>\n",
       "      <td>1</td>\n",
       "      <td>2</td>\n",
       "      <td>0</td>\n",
       "      <td>0</td>\n",
       "      <td>2015</td>\n",
       "      <td>0</td>\n",
       "      <td>...</td>\n",
       "      <td>Z</td>\n",
       "      <td>Z</td>\n",
       "      <td>ZZZZZZ</td>\n",
       "      <td>2</td>\n",
       "      <td>2</td>\n",
       "      <td>1</td>\n",
       "      <td>4</td>\n",
       "      <td>41</td>\n",
       "      <td>2</td>\n",
       "      <td>Z</td>\n",
       "    </tr>\n",
       "    <tr>\n",
       "      <th>3</th>\n",
       "      <td>101</td>\n",
       "      <td>2</td>\n",
       "      <td>5</td>\n",
       "      <td>9</td>\n",
       "      <td>30</td>\n",
       "      <td>29</td>\n",
       "      <td>29</td>\n",
       "      <td>25</td>\n",
       "      <td>1986</td>\n",
       "      <td>0</td>\n",
       "      <td>...</td>\n",
       "      <td>1</td>\n",
       "      <td>5</td>\n",
       "      <td>ZZZZZZ</td>\n",
       "      <td>2</td>\n",
       "      <td>2</td>\n",
       "      <td>1</td>\n",
       "      <td>4</td>\n",
       "      <td>41</td>\n",
       "      <td>2</td>\n",
       "      <td>Z</td>\n",
       "    </tr>\n",
       "    <tr>\n",
       "      <th>4</th>\n",
       "      <td>101</td>\n",
       "      <td>3</td>\n",
       "      <td>4</td>\n",
       "      <td>9</td>\n",
       "      <td>72</td>\n",
       "      <td>79</td>\n",
       "      <td>71</td>\n",
       "      <td>70</td>\n",
       "      <td>1948</td>\n",
       "      <td>2</td>\n",
       "      <td>...</td>\n",
       "      <td>Z</td>\n",
       "      <td>Z</td>\n",
       "      <td>ZZZZZZ</td>\n",
       "      <td>3</td>\n",
       "      <td>Z</td>\n",
       "      <td>2</td>\n",
       "      <td>1</td>\n",
       "      <td>12</td>\n",
       "      <td>0</td>\n",
       "      <td>Z</td>\n",
       "    </tr>\n",
       "  </tbody>\n",
       "</table>\n",
       "<p>5 rows × 88 columns</p>\n",
       "</div>"
      ],
      "text/plain": [
       "   CANTVILLE  NUMMI  ACHLR  AEMMR  AGED  AGER20  AGEREV  AGEREVQ  ANAI  ANEMR  \\\n",
       "0        101      1      4      9    68      79      67       65  1949      1   \n",
       "1        101      2      5      9    33      39      32       30  1983      0   \n",
       "2        101      2      5      9     1       2       0        0  2015      0   \n",
       "3        101      2      5      9    30      29      29       25  1986      0   \n",
       "4        101      3      4      9    72      79      71       70  1948      2   \n",
       "\n",
       "   ...  TP TRANS  TRIRIS TYPC TYPFC TYPL  TYPMC  TYPMR VOIT  WC  \n",
       "0  ...   Z     Z  ZZZZZZ    3     Z    2      1     11    1   Z  \n",
       "1  ...   1     5  ZZZZZZ    2     2    1      4     41    2   Z  \n",
       "2  ...   Z     Z  ZZZZZZ    2     2    1      4     41    2   Z  \n",
       "3  ...   1     5  ZZZZZZ    2     2    1      4     41    2   Z  \n",
       "4  ...   Z     Z  ZZZZZZ    3     Z    2      1     12    0   Z  \n",
       "\n",
       "[5 rows x 88 columns]"
      ]
     },
     "execution_count": 38,
     "metadata": {},
     "output_type": "execute_result"
    }
   ],
   "source": [
    "df_census = pd.read_csv(\"FD_INDCVI_2019.csv\", sep = \";\", nrows = 10)\n",
    "df_census.head()"
   ]
  },
  {
   "cell_type": "markdown",
   "id": "c069067f-4f44-4136-9e46-769498ae5b91",
   "metadata": {},
   "source": [
    "You will find information on the variables in the dataset by clicking on \"Dictionnaire des variables\" in the link above and downloading the corresponding PDF."
   ]
  },
  {
   "cell_type": "markdown",
   "id": "84f915e9-d5f2-4c5f-b9b2-0b2515e35631",
   "metadata": {},
   "source": [
    "**Task**:  For our first analysis, load the following columns. For performance reasons, it makes sense, to define a data type for each column:\n",
    "- Detailed age (by year) as `int`\n",
    "- Socioprofessional category (Catégorie socioprofessionnelle en 8 postes) as `int`\n",
    "\n",
    "Additionally, load the following columns:\n",
    "- `IRIS` is an identifier for the location of the observation in France, load it as `str`\n",
    "- `IPONDI` is a weight of each observation, load it as `float` "
   ]
  },
  {
   "cell_type": "code",
   "execution_count": 3,
   "id": "6b115072-9d10-444e-ab0b-3b9202c448d4",
   "metadata": {},
   "outputs": [
    {
     "data": {
      "text/html": [
       "<div>\n",
       "<style scoped>\n",
       "    .dataframe tbody tr th:only-of-type {\n",
       "        vertical-align: middle;\n",
       "    }\n",
       "\n",
       "    .dataframe tbody tr th {\n",
       "        vertical-align: top;\n",
       "    }\n",
       "\n",
       "    .dataframe thead th {\n",
       "        text-align: right;\n",
       "    }\n",
       "</style>\n",
       "<table border=\"1\" class=\"dataframe\">\n",
       "  <thead>\n",
       "    <tr style=\"text-align: right;\">\n",
       "      <th></th>\n",
       "      <th>AGED</th>\n",
       "      <th>CS1</th>\n",
       "      <th>IPONDI</th>\n",
       "      <th>IRIS</th>\n",
       "    </tr>\n",
       "  </thead>\n",
       "  <tbody>\n",
       "    <tr>\n",
       "      <th>0</th>\n",
       "      <td>68</td>\n",
       "      <td>7</td>\n",
       "      <td>3.324481</td>\n",
       "      <td>010040101</td>\n",
       "    </tr>\n",
       "    <tr>\n",
       "      <th>1</th>\n",
       "      <td>33</td>\n",
       "      <td>6</td>\n",
       "      <td>2.957422</td>\n",
       "      <td>010040202</td>\n",
       "    </tr>\n",
       "    <tr>\n",
       "      <th>2</th>\n",
       "      <td>1</td>\n",
       "      <td>8</td>\n",
       "      <td>2.957422</td>\n",
       "      <td>010040202</td>\n",
       "    </tr>\n",
       "    <tr>\n",
       "      <th>3</th>\n",
       "      <td>30</td>\n",
       "      <td>6</td>\n",
       "      <td>2.957422</td>\n",
       "      <td>010040202</td>\n",
       "    </tr>\n",
       "    <tr>\n",
       "      <th>4</th>\n",
       "      <td>72</td>\n",
       "      <td>7</td>\n",
       "      <td>5.046771</td>\n",
       "      <td>ZZZZZZZZZ</td>\n",
       "    </tr>\n",
       "  </tbody>\n",
       "</table>\n",
       "</div>"
      ],
      "text/plain": [
       "   AGED  CS1    IPONDI       IRIS\n",
       "0    68    7  3.324481  010040101\n",
       "1    33    6  2.957422  010040202\n",
       "2     1    8  2.957422  010040202\n",
       "3    30    6  2.957422  010040202\n",
       "4    72    7  5.046771  ZZZZZZZZZ"
      ]
     },
     "execution_count": 3,
     "metadata": {},
     "output_type": "execute_result"
    }
   ],
   "source": [
    "columns = {\n",
    "    \"IRIS\": str,\n",
    "    \"IPONDI\": float,\n",
    "    \n",
    "    # Insert the other columns here\n",
    "    # ...\n",
    "\n",
    "    \"AGED\": int,\n",
    "    \"CS1\": int\n",
    "}\n",
    "\n",
    "df_census = pd.read_csv(\"C:\\Projects\\modeling-simulation\\data\\FD_INDCVI_2019.csv\", sep = \";\", dtype = columns, usecols = columns.keys())\n",
    "df_census.head()"
   ]
  },
  {
   "cell_type": "markdown",
   "id": "026f10b1-60d7-4474-9c88-afa22f76e2ec",
   "metadata": {},
   "source": [
    "**Task**:  It is always better to work with a cleaned data set, let's clean up the column names:\n",
    "- The age column to `age`\n",
    "- The socioprofessional category column to `csp`"
   ]
  },
  {
   "cell_type": "code",
   "execution_count": 4,
   "id": "47f6eab6-31cb-49ab-9c54-d77715b1c83a",
   "metadata": {},
   "outputs": [
    {
     "data": {
      "text/html": [
       "<div>\n",
       "<style scoped>\n",
       "    .dataframe tbody tr th:only-of-type {\n",
       "        vertical-align: middle;\n",
       "    }\n",
       "\n",
       "    .dataframe tbody tr th {\n",
       "        vertical-align: top;\n",
       "    }\n",
       "\n",
       "    .dataframe thead th {\n",
       "        text-align: right;\n",
       "    }\n",
       "</style>\n",
       "<table border=\"1\" class=\"dataframe\">\n",
       "  <thead>\n",
       "    <tr style=\"text-align: right;\">\n",
       "      <th></th>\n",
       "      <th>age</th>\n",
       "      <th>csp</th>\n",
       "      <th>weight</th>\n",
       "      <th>iris_id</th>\n",
       "    </tr>\n",
       "  </thead>\n",
       "  <tbody>\n",
       "    <tr>\n",
       "      <th>0</th>\n",
       "      <td>68</td>\n",
       "      <td>7</td>\n",
       "      <td>3.324481</td>\n",
       "      <td>010040101</td>\n",
       "    </tr>\n",
       "    <tr>\n",
       "      <th>1</th>\n",
       "      <td>33</td>\n",
       "      <td>6</td>\n",
       "      <td>2.957422</td>\n",
       "      <td>010040202</td>\n",
       "    </tr>\n",
       "    <tr>\n",
       "      <th>2</th>\n",
       "      <td>1</td>\n",
       "      <td>8</td>\n",
       "      <td>2.957422</td>\n",
       "      <td>010040202</td>\n",
       "    </tr>\n",
       "    <tr>\n",
       "      <th>3</th>\n",
       "      <td>30</td>\n",
       "      <td>6</td>\n",
       "      <td>2.957422</td>\n",
       "      <td>010040202</td>\n",
       "    </tr>\n",
       "    <tr>\n",
       "      <th>4</th>\n",
       "      <td>72</td>\n",
       "      <td>7</td>\n",
       "      <td>5.046771</td>\n",
       "      <td>ZZZZZZZZZ</td>\n",
       "    </tr>\n",
       "  </tbody>\n",
       "</table>\n",
       "</div>"
      ],
      "text/plain": [
       "   age  csp    weight    iris_id\n",
       "0   68    7  3.324481  010040101\n",
       "1   33    6  2.957422  010040202\n",
       "2    1    8  2.957422  010040202\n",
       "3   30    6  2.957422  010040202\n",
       "4   72    7  5.046771  ZZZZZZZZZ"
      ]
     },
     "execution_count": 4,
     "metadata": {},
     "output_type": "execute_result"
    }
   ],
   "source": [
    "df_census = df_census.rename(columns = {\n",
    "    \"IRIS\": \"iris_id\",\n",
    "    \"IPONDI\": \"weight\",\n",
    "\n",
    "    # Insert code here\n",
    "    # ...\n",
    "\n",
    "    \"AGED\": \"age\",\n",
    "    \"CS1\": \"csp\"\n",
    "})\n",
    "\n",
    "df_census.head()"
   ]
  },
  {
   "cell_type": "markdown",
   "id": "e2b11b52-55a1-4e8b-a0a3-e6f5d8710ab1",
   "metadata": {},
   "source": [
    "The data set contains the official open census data from the French statistical office INSEE. Let's aggregate the data to obtain a data frame that gives us the number of persons at a certain age:"
   ]
  },
  {
   "cell_type": "code",
   "execution_count": 5,
   "id": "f5f9f1ec-521c-4e71-b6fd-1cbd8f3752bb",
   "metadata": {},
   "outputs": [
    {
     "data": {
      "text/html": [
       "<div>\n",
       "<style scoped>\n",
       "    .dataframe tbody tr th:only-of-type {\n",
       "        vertical-align: middle;\n",
       "    }\n",
       "\n",
       "    .dataframe tbody tr th {\n",
       "        vertical-align: top;\n",
       "    }\n",
       "\n",
       "    .dataframe thead th {\n",
       "        text-align: right;\n",
       "    }\n",
       "</style>\n",
       "<table border=\"1\" class=\"dataframe\">\n",
       "  <thead>\n",
       "    <tr style=\"text-align: right;\">\n",
       "      <th></th>\n",
       "      <th>age</th>\n",
       "      <th>count</th>\n",
       "    </tr>\n",
       "  </thead>\n",
       "  <tbody>\n",
       "    <tr>\n",
       "      <th>0</th>\n",
       "      <td>0</td>\n",
       "      <td>10337</td>\n",
       "    </tr>\n",
       "    <tr>\n",
       "      <th>1</th>\n",
       "      <td>1</td>\n",
       "      <td>227153</td>\n",
       "    </tr>\n",
       "    <tr>\n",
       "      <th>2</th>\n",
       "      <td>2</td>\n",
       "      <td>229452</td>\n",
       "    </tr>\n",
       "    <tr>\n",
       "      <th>3</th>\n",
       "      <td>3</td>\n",
       "      <td>234656</td>\n",
       "    </tr>\n",
       "    <tr>\n",
       "      <th>4</th>\n",
       "      <td>4</td>\n",
       "      <td>238328</td>\n",
       "    </tr>\n",
       "  </tbody>\n",
       "</table>\n",
       "</div>"
      ],
      "text/plain": [
       "   age   count\n",
       "0    0   10337\n",
       "1    1  227153\n",
       "2    2  229452\n",
       "3    3  234656\n",
       "4    4  238328"
      ]
     },
     "execution_count": 5,
     "metadata": {},
     "output_type": "execute_result"
    }
   ],
   "source": [
    "df_age = df_census.groupby(\"age\").size().reset_index(name = \"count\")\n",
    "df_age.head()"
   ]
  },
  {
   "cell_type": "markdown",
   "id": "9422abc4-9a0c-42c8-b65d-ae6b2dd05167",
   "metadata": {},
   "source": [
    "And plot this information using plotly:"
   ]
  },
  {
   "cell_type": "code",
   "execution_count": 6,
   "id": "7cd6516b-5c7f-4c16-8a05-d8e5e2d9f034",
   "metadata": {},
   "outputs": [
    {
     "data": {
      "application/vnd.plotly.v1+json": {
       "config": {
        "plotlyServerURL": "https://plot.ly"
       },
       "data": [
        {
         "alignmentgroup": "True",
         "hovertemplate": "age=%{x}<br>count=%{y}<extra></extra>",
         "legendgroup": "",
         "marker": {
          "color": "#636efa",
          "pattern": {
           "shape": ""
          }
         },
         "name": "",
         "offsetgroup": "",
         "orientation": "v",
         "showlegend": false,
         "textposition": "auto",
         "type": "bar",
         "x": [
          0,
          1,
          2,
          3,
          4,
          5,
          6,
          7,
          8,
          9,
          10,
          11,
          12,
          13,
          14,
          15,
          16,
          17,
          18,
          19,
          20,
          21,
          22,
          23,
          24,
          25,
          26,
          27,
          28,
          29,
          30,
          31,
          32,
          33,
          34,
          35,
          36,
          37,
          38,
          39,
          40,
          41,
          42,
          43,
          44,
          45,
          46,
          47,
          48,
          49,
          50,
          51,
          52,
          53,
          54,
          55,
          56,
          57,
          58,
          59,
          60,
          61,
          62,
          63,
          64,
          65,
          66,
          67,
          68,
          69,
          70,
          71,
          72,
          73,
          74,
          75,
          76,
          77,
          78,
          79,
          80,
          81,
          82,
          83,
          84,
          85,
          86,
          87,
          88,
          89,
          90,
          91,
          92,
          93,
          94,
          95,
          96,
          97,
          98,
          99,
          100,
          101,
          102,
          103,
          104,
          105,
          106,
          107,
          108,
          109,
          110,
          111,
          112,
          113,
          114,
          115,
          116,
          117,
          118,
          119,
          120
         ],
         "xaxis": "x",
         "y": [
          10337,
          227153,
          229452,
          234656,
          238328,
          241643,
          244320,
          245046,
          246076,
          244029,
          245210,
          243061,
          240892,
          238023,
          235821,
          236599,
          238342,
          238493,
          240132,
          263714,
          262454,
          256791,
          249812,
          245605,
          244220,
          245396,
          246397,
          249843,
          252941,
          255723,
          257586,
          258011,
          255771,
          253763,
          255549,
          255509,
          255866,
          254251,
          254484,
          249986,
          247946,
          240818,
          241704,
          245741,
          250836,
          256441,
          260710,
          260458,
          258500,
          254726,
          254135,
          252805,
          252448,
          252030,
          250428,
          249514,
          246325,
          242391,
          238833,
          236619,
          233314,
          229723,
          226530,
          223809,
          222083,
          219006,
          217925,
          217070,
          216556,
          213036,
          211693,
          195134,
          181214,
          166806,
          151400,
          135352,
          127961,
          123061,
          118988,
          115595,
          114860,
          111953,
          107682,
          103692,
          99350,
          93742,
          88773,
          80872,
          73561,
          65022,
          57055,
          48444,
          41439,
          34163,
          27810,
          22038,
          16952,
          11902,
          7729,
          4917,
          2901,
          1641,
          1164,
          846,
          578,
          338,
          227,
          119,
          78,
          50,
          47,
          25,
          25,
          28,
          23,
          29,
          82,
          113,
          7,
          3,
          35
         ],
         "yaxis": "y"
        }
       ],
       "layout": {
        "barmode": "relative",
        "legend": {
         "tracegroupgap": 0
        },
        "margin": {
         "t": 60
        },
        "template": {
         "data": {
          "bar": [
           {
            "error_x": {
             "color": "#2a3f5f"
            },
            "error_y": {
             "color": "#2a3f5f"
            },
            "marker": {
             "line": {
              "color": "#E5ECF6",
              "width": 0.5
             },
             "pattern": {
              "fillmode": "overlay",
              "size": 10,
              "solidity": 0.2
             }
            },
            "type": "bar"
           }
          ],
          "barpolar": [
           {
            "marker": {
             "line": {
              "color": "#E5ECF6",
              "width": 0.5
             },
             "pattern": {
              "fillmode": "overlay",
              "size": 10,
              "solidity": 0.2
             }
            },
            "type": "barpolar"
           }
          ],
          "carpet": [
           {
            "aaxis": {
             "endlinecolor": "#2a3f5f",
             "gridcolor": "white",
             "linecolor": "white",
             "minorgridcolor": "white",
             "startlinecolor": "#2a3f5f"
            },
            "baxis": {
             "endlinecolor": "#2a3f5f",
             "gridcolor": "white",
             "linecolor": "white",
             "minorgridcolor": "white",
             "startlinecolor": "#2a3f5f"
            },
            "type": "carpet"
           }
          ],
          "choropleth": [
           {
            "colorbar": {
             "outlinewidth": 0,
             "ticks": ""
            },
            "type": "choropleth"
           }
          ],
          "contour": [
           {
            "colorbar": {
             "outlinewidth": 0,
             "ticks": ""
            },
            "colorscale": [
             [
              0,
              "#0d0887"
             ],
             [
              0.1111111111111111,
              "#46039f"
             ],
             [
              0.2222222222222222,
              "#7201a8"
             ],
             [
              0.3333333333333333,
              "#9c179e"
             ],
             [
              0.4444444444444444,
              "#bd3786"
             ],
             [
              0.5555555555555556,
              "#d8576b"
             ],
             [
              0.6666666666666666,
              "#ed7953"
             ],
             [
              0.7777777777777778,
              "#fb9f3a"
             ],
             [
              0.8888888888888888,
              "#fdca26"
             ],
             [
              1,
              "#f0f921"
             ]
            ],
            "type": "contour"
           }
          ],
          "contourcarpet": [
           {
            "colorbar": {
             "outlinewidth": 0,
             "ticks": ""
            },
            "type": "contourcarpet"
           }
          ],
          "heatmap": [
           {
            "colorbar": {
             "outlinewidth": 0,
             "ticks": ""
            },
            "colorscale": [
             [
              0,
              "#0d0887"
             ],
             [
              0.1111111111111111,
              "#46039f"
             ],
             [
              0.2222222222222222,
              "#7201a8"
             ],
             [
              0.3333333333333333,
              "#9c179e"
             ],
             [
              0.4444444444444444,
              "#bd3786"
             ],
             [
              0.5555555555555556,
              "#d8576b"
             ],
             [
              0.6666666666666666,
              "#ed7953"
             ],
             [
              0.7777777777777778,
              "#fb9f3a"
             ],
             [
              0.8888888888888888,
              "#fdca26"
             ],
             [
              1,
              "#f0f921"
             ]
            ],
            "type": "heatmap"
           }
          ],
          "heatmapgl": [
           {
            "colorbar": {
             "outlinewidth": 0,
             "ticks": ""
            },
            "colorscale": [
             [
              0,
              "#0d0887"
             ],
             [
              0.1111111111111111,
              "#46039f"
             ],
             [
              0.2222222222222222,
              "#7201a8"
             ],
             [
              0.3333333333333333,
              "#9c179e"
             ],
             [
              0.4444444444444444,
              "#bd3786"
             ],
             [
              0.5555555555555556,
              "#d8576b"
             ],
             [
              0.6666666666666666,
              "#ed7953"
             ],
             [
              0.7777777777777778,
              "#fb9f3a"
             ],
             [
              0.8888888888888888,
              "#fdca26"
             ],
             [
              1,
              "#f0f921"
             ]
            ],
            "type": "heatmapgl"
           }
          ],
          "histogram": [
           {
            "marker": {
             "pattern": {
              "fillmode": "overlay",
              "size": 10,
              "solidity": 0.2
             }
            },
            "type": "histogram"
           }
          ],
          "histogram2d": [
           {
            "colorbar": {
             "outlinewidth": 0,
             "ticks": ""
            },
            "colorscale": [
             [
              0,
              "#0d0887"
             ],
             [
              0.1111111111111111,
              "#46039f"
             ],
             [
              0.2222222222222222,
              "#7201a8"
             ],
             [
              0.3333333333333333,
              "#9c179e"
             ],
             [
              0.4444444444444444,
              "#bd3786"
             ],
             [
              0.5555555555555556,
              "#d8576b"
             ],
             [
              0.6666666666666666,
              "#ed7953"
             ],
             [
              0.7777777777777778,
              "#fb9f3a"
             ],
             [
              0.8888888888888888,
              "#fdca26"
             ],
             [
              1,
              "#f0f921"
             ]
            ],
            "type": "histogram2d"
           }
          ],
          "histogram2dcontour": [
           {
            "colorbar": {
             "outlinewidth": 0,
             "ticks": ""
            },
            "colorscale": [
             [
              0,
              "#0d0887"
             ],
             [
              0.1111111111111111,
              "#46039f"
             ],
             [
              0.2222222222222222,
              "#7201a8"
             ],
             [
              0.3333333333333333,
              "#9c179e"
             ],
             [
              0.4444444444444444,
              "#bd3786"
             ],
             [
              0.5555555555555556,
              "#d8576b"
             ],
             [
              0.6666666666666666,
              "#ed7953"
             ],
             [
              0.7777777777777778,
              "#fb9f3a"
             ],
             [
              0.8888888888888888,
              "#fdca26"
             ],
             [
              1,
              "#f0f921"
             ]
            ],
            "type": "histogram2dcontour"
           }
          ],
          "mesh3d": [
           {
            "colorbar": {
             "outlinewidth": 0,
             "ticks": ""
            },
            "type": "mesh3d"
           }
          ],
          "parcoords": [
           {
            "line": {
             "colorbar": {
              "outlinewidth": 0,
              "ticks": ""
             }
            },
            "type": "parcoords"
           }
          ],
          "pie": [
           {
            "automargin": true,
            "type": "pie"
           }
          ],
          "scatter": [
           {
            "fillpattern": {
             "fillmode": "overlay",
             "size": 10,
             "solidity": 0.2
            },
            "type": "scatter"
           }
          ],
          "scatter3d": [
           {
            "line": {
             "colorbar": {
              "outlinewidth": 0,
              "ticks": ""
             }
            },
            "marker": {
             "colorbar": {
              "outlinewidth": 0,
              "ticks": ""
             }
            },
            "type": "scatter3d"
           }
          ],
          "scattercarpet": [
           {
            "marker": {
             "colorbar": {
              "outlinewidth": 0,
              "ticks": ""
             }
            },
            "type": "scattercarpet"
           }
          ],
          "scattergeo": [
           {
            "marker": {
             "colorbar": {
              "outlinewidth": 0,
              "ticks": ""
             }
            },
            "type": "scattergeo"
           }
          ],
          "scattergl": [
           {
            "marker": {
             "colorbar": {
              "outlinewidth": 0,
              "ticks": ""
             }
            },
            "type": "scattergl"
           }
          ],
          "scattermapbox": [
           {
            "marker": {
             "colorbar": {
              "outlinewidth": 0,
              "ticks": ""
             }
            },
            "type": "scattermapbox"
           }
          ],
          "scatterpolar": [
           {
            "marker": {
             "colorbar": {
              "outlinewidth": 0,
              "ticks": ""
             }
            },
            "type": "scatterpolar"
           }
          ],
          "scatterpolargl": [
           {
            "marker": {
             "colorbar": {
              "outlinewidth": 0,
              "ticks": ""
             }
            },
            "type": "scatterpolargl"
           }
          ],
          "scatterternary": [
           {
            "marker": {
             "colorbar": {
              "outlinewidth": 0,
              "ticks": ""
             }
            },
            "type": "scatterternary"
           }
          ],
          "surface": [
           {
            "colorbar": {
             "outlinewidth": 0,
             "ticks": ""
            },
            "colorscale": [
             [
              0,
              "#0d0887"
             ],
             [
              0.1111111111111111,
              "#46039f"
             ],
             [
              0.2222222222222222,
              "#7201a8"
             ],
             [
              0.3333333333333333,
              "#9c179e"
             ],
             [
              0.4444444444444444,
              "#bd3786"
             ],
             [
              0.5555555555555556,
              "#d8576b"
             ],
             [
              0.6666666666666666,
              "#ed7953"
             ],
             [
              0.7777777777777778,
              "#fb9f3a"
             ],
             [
              0.8888888888888888,
              "#fdca26"
             ],
             [
              1,
              "#f0f921"
             ]
            ],
            "type": "surface"
           }
          ],
          "table": [
           {
            "cells": {
             "fill": {
              "color": "#EBF0F8"
             },
             "line": {
              "color": "white"
             }
            },
            "header": {
             "fill": {
              "color": "#C8D4E3"
             },
             "line": {
              "color": "white"
             }
            },
            "type": "table"
           }
          ]
         },
         "layout": {
          "annotationdefaults": {
           "arrowcolor": "#2a3f5f",
           "arrowhead": 0,
           "arrowwidth": 1
          },
          "autotypenumbers": "strict",
          "coloraxis": {
           "colorbar": {
            "outlinewidth": 0,
            "ticks": ""
           }
          },
          "colorscale": {
           "diverging": [
            [
             0,
             "#8e0152"
            ],
            [
             0.1,
             "#c51b7d"
            ],
            [
             0.2,
             "#de77ae"
            ],
            [
             0.3,
             "#f1b6da"
            ],
            [
             0.4,
             "#fde0ef"
            ],
            [
             0.5,
             "#f7f7f7"
            ],
            [
             0.6,
             "#e6f5d0"
            ],
            [
             0.7,
             "#b8e186"
            ],
            [
             0.8,
             "#7fbc41"
            ],
            [
             0.9,
             "#4d9221"
            ],
            [
             1,
             "#276419"
            ]
           ],
           "sequential": [
            [
             0,
             "#0d0887"
            ],
            [
             0.1111111111111111,
             "#46039f"
            ],
            [
             0.2222222222222222,
             "#7201a8"
            ],
            [
             0.3333333333333333,
             "#9c179e"
            ],
            [
             0.4444444444444444,
             "#bd3786"
            ],
            [
             0.5555555555555556,
             "#d8576b"
            ],
            [
             0.6666666666666666,
             "#ed7953"
            ],
            [
             0.7777777777777778,
             "#fb9f3a"
            ],
            [
             0.8888888888888888,
             "#fdca26"
            ],
            [
             1,
             "#f0f921"
            ]
           ],
           "sequentialminus": [
            [
             0,
             "#0d0887"
            ],
            [
             0.1111111111111111,
             "#46039f"
            ],
            [
             0.2222222222222222,
             "#7201a8"
            ],
            [
             0.3333333333333333,
             "#9c179e"
            ],
            [
             0.4444444444444444,
             "#bd3786"
            ],
            [
             0.5555555555555556,
             "#d8576b"
            ],
            [
             0.6666666666666666,
             "#ed7953"
            ],
            [
             0.7777777777777778,
             "#fb9f3a"
            ],
            [
             0.8888888888888888,
             "#fdca26"
            ],
            [
             1,
             "#f0f921"
            ]
           ]
          },
          "colorway": [
           "#636efa",
           "#EF553B",
           "#00cc96",
           "#ab63fa",
           "#FFA15A",
           "#19d3f3",
           "#FF6692",
           "#B6E880",
           "#FF97FF",
           "#FECB52"
          ],
          "font": {
           "color": "#2a3f5f"
          },
          "geo": {
           "bgcolor": "white",
           "lakecolor": "white",
           "landcolor": "#E5ECF6",
           "showlakes": true,
           "showland": true,
           "subunitcolor": "white"
          },
          "hoverlabel": {
           "align": "left"
          },
          "hovermode": "closest",
          "mapbox": {
           "style": "light"
          },
          "paper_bgcolor": "white",
          "plot_bgcolor": "#E5ECF6",
          "polar": {
           "angularaxis": {
            "gridcolor": "white",
            "linecolor": "white",
            "ticks": ""
           },
           "bgcolor": "#E5ECF6",
           "radialaxis": {
            "gridcolor": "white",
            "linecolor": "white",
            "ticks": ""
           }
          },
          "scene": {
           "xaxis": {
            "backgroundcolor": "#E5ECF6",
            "gridcolor": "white",
            "gridwidth": 2,
            "linecolor": "white",
            "showbackground": true,
            "ticks": "",
            "zerolinecolor": "white"
           },
           "yaxis": {
            "backgroundcolor": "#E5ECF6",
            "gridcolor": "white",
            "gridwidth": 2,
            "linecolor": "white",
            "showbackground": true,
            "ticks": "",
            "zerolinecolor": "white"
           },
           "zaxis": {
            "backgroundcolor": "#E5ECF6",
            "gridcolor": "white",
            "gridwidth": 2,
            "linecolor": "white",
            "showbackground": true,
            "ticks": "",
            "zerolinecolor": "white"
           }
          },
          "shapedefaults": {
           "line": {
            "color": "#2a3f5f"
           }
          },
          "ternary": {
           "aaxis": {
            "gridcolor": "white",
            "linecolor": "white",
            "ticks": ""
           },
           "baxis": {
            "gridcolor": "white",
            "linecolor": "white",
            "ticks": ""
           },
           "bgcolor": "#E5ECF6",
           "caxis": {
            "gridcolor": "white",
            "linecolor": "white",
            "ticks": ""
           }
          },
          "title": {
           "x": 0.05
          },
          "xaxis": {
           "automargin": true,
           "gridcolor": "white",
           "linecolor": "white",
           "ticks": "",
           "title": {
            "standoff": 15
           },
           "zerolinecolor": "white",
           "zerolinewidth": 2
          },
          "yaxis": {
           "automargin": true,
           "gridcolor": "white",
           "linecolor": "white",
           "ticks": "",
           "title": {
            "standoff": 15
           },
           "zerolinecolor": "white",
           "zerolinewidth": 2
          }
         }
        },
        "xaxis": {
         "anchor": "y",
         "domain": [
          0,
          1
         ],
         "title": {
          "text": "age"
         }
        },
        "yaxis": {
         "anchor": "x",
         "domain": [
          0,
          1
         ],
         "title": {
          "text": "count"
         }
        }
       }
      }
     },
     "metadata": {},
     "output_type": "display_data"
    }
   ],
   "source": [
    "px.bar(df_age, x = \"age\", y = \"count\")"
   ]
  },
  {
   "cell_type": "markdown",
   "id": "64a8c43e-30fb-4744-9fd8-fbdf3aa7b1df",
   "metadata": {},
   "source": [
    "Is this information correct? Write the code to calculate total number of observations in the data set:"
   ]
  },
  {
   "cell_type": "code",
   "execution_count": 7,
   "id": "67a8f4a8-6de2-46fb-bc34-b8b572cdfc1b",
   "metadata": {},
   "outputs": [
    {
     "data": {
      "text/plain": [
       "19601264"
      ]
     },
     "execution_count": 7,
     "metadata": {},
     "output_type": "execute_result"
    }
   ],
   "source": [
    "len(df_census)"
   ]
  },
  {
   "cell_type": "markdown",
   "id": "2c22d06e-5c27-4d28-af56-bde698de72e8",
   "metadata": {},
   "source": [
    "Compare this value with information from other sources like Wikipedia? Do we see a difference? Why?"
   ]
  },
  {
   "cell_type": "markdown",
   "id": "88647e72-f63b-47da-bef4-f732cf55f359",
   "metadata": {},
   "source": [
    "**Task**: Write the code to calculate the correct number of French inhabitants:"
   ]
  },
  {
   "cell_type": "code",
   "execution_count": 8,
   "id": "7d5fbbdb-b062-477e-8593-534afb2470f6",
   "metadata": {},
   "outputs": [
    {
     "data": {
      "text/plain": [
       "66984889.84164774"
      ]
     },
     "execution_count": 8,
     "metadata": {},
     "output_type": "execute_result"
    }
   ],
   "source": [
    "# Insert code here\n",
    "# ...\n",
    "\n",
    "df_census[\"weight\"].sum()"
   ]
  },
  {
   "cell_type": "markdown",
   "id": "1730caee-77e4-4e34-9280-377701ecfc67",
   "metadata": {},
   "source": [
    "**Task:** Show a bar plot of both the count of *observations* at a specific age and the number of *persons*.\n",
    "\n",
    "Hints: \n",
    "- You will need another aggregator function than `size` (used before) in your `groupby` statement\n",
    "- You will need to `merge` the existing `df_age` data frame and a new one that you create\n",
    "- For the y-axis, you may pass a list of columns to plotly\n",
    "- Try to use the `barmode = \"group\"` argument for plotly"
   ]
  },
  {
   "cell_type": "code",
   "execution_count": 9,
   "id": "fcddc36f-0649-4a6e-b76e-19e6991d8084",
   "metadata": {},
   "outputs": [
    {
     "name": "stderr",
     "output_type": "stream",
     "text": [
      "c:\\Apps space\\conda\\envs\\simu-cour\\Lib\\site-packages\\plotly\\express\\_core.py:2065: FutureWarning:\n",
      "\n",
      "When grouping with a length-1 list-like, you will need to pass a length-1 tuple to get_group in a future version of pandas. Pass `(name,)` instead of `name` to silence this warning.\n",
      "\n"
     ]
    },
    {
     "data": {
      "application/vnd.plotly.v1+json": {
       "config": {
        "plotlyServerURL": "https://plot.ly"
       },
       "data": [
        {
         "alignmentgroup": "True",
         "hovertemplate": "variable=count<br>age=%{x}<br>value=%{y}<extra></extra>",
         "legendgroup": "count",
         "marker": {
          "color": "#636efa",
          "pattern": {
           "shape": ""
          }
         },
         "name": "count",
         "offsetgroup": "count",
         "orientation": "v",
         "showlegend": true,
         "textposition": "auto",
         "type": "bar",
         "x": [
          0,
          1,
          2,
          3,
          4,
          5,
          6,
          7,
          8,
          9,
          10,
          11,
          12,
          13,
          14,
          15,
          16,
          17,
          18,
          19,
          20,
          21,
          22,
          23,
          24,
          25,
          26,
          27,
          28,
          29,
          30,
          31,
          32,
          33,
          34,
          35,
          36,
          37,
          38,
          39,
          40,
          41,
          42,
          43,
          44,
          45,
          46,
          47,
          48,
          49,
          50,
          51,
          52,
          53,
          54,
          55,
          56,
          57,
          58,
          59,
          60,
          61,
          62,
          63,
          64,
          65,
          66,
          67,
          68,
          69,
          70,
          71,
          72,
          73,
          74,
          75,
          76,
          77,
          78,
          79,
          80,
          81,
          82,
          83,
          84,
          85,
          86,
          87,
          88,
          89,
          90,
          91,
          92,
          93,
          94,
          95,
          96,
          97,
          98,
          99,
          100,
          101,
          102,
          103,
          104,
          105,
          106,
          107,
          108,
          109,
          110,
          111,
          112,
          113,
          114,
          115,
          116,
          117,
          118,
          119,
          120
         ],
         "xaxis": "x",
         "y": [
          10337,
          227153,
          229452,
          234656,
          238328,
          241643,
          244320,
          245046,
          246076,
          244029,
          245210,
          243061,
          240892,
          238023,
          235821,
          236599,
          238342,
          238493,
          240132,
          263714,
          262454,
          256791,
          249812,
          245605,
          244220,
          245396,
          246397,
          249843,
          252941,
          255723,
          257586,
          258011,
          255771,
          253763,
          255549,
          255509,
          255866,
          254251,
          254484,
          249986,
          247946,
          240818,
          241704,
          245741,
          250836,
          256441,
          260710,
          260458,
          258500,
          254726,
          254135,
          252805,
          252448,
          252030,
          250428,
          249514,
          246325,
          242391,
          238833,
          236619,
          233314,
          229723,
          226530,
          223809,
          222083,
          219006,
          217925,
          217070,
          216556,
          213036,
          211693,
          195134,
          181214,
          166806,
          151400,
          135352,
          127961,
          123061,
          118988,
          115595,
          114860,
          111953,
          107682,
          103692,
          99350,
          93742,
          88773,
          80872,
          73561,
          65022,
          57055,
          48444,
          41439,
          34163,
          27810,
          22038,
          16952,
          11902,
          7729,
          4917,
          2901,
          1641,
          1164,
          846,
          578,
          338,
          227,
          119,
          78,
          50,
          47,
          25,
          25,
          28,
          23,
          29,
          82,
          113,
          7,
          3,
          35
         ],
         "yaxis": "y"
        },
        {
         "alignmentgroup": "True",
         "hovertemplate": "variable=weight<br>age=%{x}<br>value=%{y}<extra></extra>",
         "legendgroup": "weight",
         "marker": {
          "color": "#EF553B",
          "pattern": {
           "shape": ""
          }
         },
         "name": "weight",
         "offsetgroup": "weight",
         "orientation": "v",
         "showlegend": true,
         "textposition": "auto",
         "type": "bar",
         "x": [
          0,
          1,
          2,
          3,
          4,
          5,
          6,
          7,
          8,
          9,
          10,
          11,
          12,
          13,
          14,
          15,
          16,
          17,
          18,
          19,
          20,
          21,
          22,
          23,
          24,
          25,
          26,
          27,
          28,
          29,
          30,
          31,
          32,
          33,
          34,
          35,
          36,
          37,
          38,
          39,
          40,
          41,
          42,
          43,
          44,
          45,
          46,
          47,
          48,
          49,
          50,
          51,
          52,
          53,
          54,
          55,
          56,
          57,
          58,
          59,
          60,
          61,
          62,
          63,
          64,
          65,
          66,
          67,
          68,
          69,
          70,
          71,
          72,
          73,
          74,
          75,
          76,
          77,
          78,
          79,
          80,
          81,
          82,
          83,
          84,
          85,
          86,
          87,
          88,
          89,
          90,
          91,
          92,
          93,
          94,
          95,
          96,
          97,
          98,
          99,
          100,
          101,
          102,
          103,
          104,
          105,
          106,
          107,
          108,
          109,
          110,
          111,
          112,
          113,
          114,
          115,
          116,
          117,
          118,
          119,
          120
         ],
         "xaxis": "x",
         "y": [
          32224.97633815686,
          715244.9507261649,
          727556.8484066982,
          751717.2776285581,
          771415.4680074061,
          790729.213887842,
          806869.3647636912,
          817346.6723565701,
          826264.6093727796,
          826819.8097178551,
          836151.8034939736,
          833810.4404392103,
          829668.3989340719,
          823481.335579735,
          820650.6283340192,
          824322.4285153087,
          832554.5654536547,
          832161.7912068069,
          835494.975522585,
          827102.826791295,
          800435.6265485544,
          774089.1640960347,
          752498.4747460489,
          740538.4326686898,
          738179.5639990923,
          743540.3536196001,
          747201.6544403997,
          757784.14762298,
          772364.1471807973,
          786617.0181151438,
          798748.413991915,
          807439.9787897464,
          809134.1253366028,
          809157.7548726379,
          822536.9971267739,
          830693.2798744699,
          836421.6104907874,
          840512.837846283,
          845423.7210777629,
          836415.9845377381,
          831611.8073791576,
          811144.4325993395,
          820948.4053472836,
          840231.1879569975,
          864512.0473908253,
          888354.9096952248,
          906784.0954948969,
          911205.3118367466,
          908266.5156809401,
          897206.2131867661,
          899197.4586247158,
          895362.5052887638,
          898446.4574284432,
          899522.1306134978,
          896986.9017634997,
          897077.8453170664,
          886210.5633454978,
          876184.5251177083,
          865209.333195073,
          859141.0321729506,
          848300.7701850731,
          839055.7063550117,
          827951.8641839587,
          821921.1746547944,
          815244.698326279,
          805610.1980577979,
          802184.2037629485,
          800280.9778352216,
          799355.3795607047,
          786609.4220100549,
          781270.5305710828,
          717917.3123906332,
          665486.4829863064,
          610830.3797347818,
          553396.1668710754,
          492151.4284701321,
          465213.4617171703,
          447527.2212578826,
          432996.8972518601,
          422708.7927280994,
          420192.8013102445,
          409882.47081321134,
          393873.81032455794,
          379608.6286509788,
          363706.2203263864,
          343424.0071121876,
          324781.2912589777,
          295896.04609144514,
          268750.6659659793,
          237472.58229251133,
          209283.49635846642,
          178168.6721990573,
          153749.9012841737,
          126908.57320118643,
          104466.80462350539,
          83028.59034491533,
          64443.09800029194,
          45424.28719154218,
          29606.179505107666,
          19085.973132664905,
          11252.209989007408,
          6239.781394256649,
          4610.248227428174,
          3366.4335236904326,
          2250.0386622186606,
          1344.917882033483,
          874.9358313683332,
          471.40170527487413,
          261.12144007198407,
          188.77012566321216,
          154.9810626121203,
          90.03071304572234,
          64.78278902861551,
          80.89008467647926,
          74.10162242964086,
          72.22945327739347,
          282.2152811560496,
          373.10417679820006,
          18.52673244120967,
          12.39068076892195,
          114.20947836267713
         ],
         "yaxis": "y"
        }
       ],
       "layout": {
        "barmode": "group",
        "legend": {
         "title": {
          "text": "variable"
         },
         "tracegroupgap": 0
        },
        "margin": {
         "t": 60
        },
        "template": {
         "data": {
          "bar": [
           {
            "error_x": {
             "color": "#2a3f5f"
            },
            "error_y": {
             "color": "#2a3f5f"
            },
            "marker": {
             "line": {
              "color": "#E5ECF6",
              "width": 0.5
             },
             "pattern": {
              "fillmode": "overlay",
              "size": 10,
              "solidity": 0.2
             }
            },
            "type": "bar"
           }
          ],
          "barpolar": [
           {
            "marker": {
             "line": {
              "color": "#E5ECF6",
              "width": 0.5
             },
             "pattern": {
              "fillmode": "overlay",
              "size": 10,
              "solidity": 0.2
             }
            },
            "type": "barpolar"
           }
          ],
          "carpet": [
           {
            "aaxis": {
             "endlinecolor": "#2a3f5f",
             "gridcolor": "white",
             "linecolor": "white",
             "minorgridcolor": "white",
             "startlinecolor": "#2a3f5f"
            },
            "baxis": {
             "endlinecolor": "#2a3f5f",
             "gridcolor": "white",
             "linecolor": "white",
             "minorgridcolor": "white",
             "startlinecolor": "#2a3f5f"
            },
            "type": "carpet"
           }
          ],
          "choropleth": [
           {
            "colorbar": {
             "outlinewidth": 0,
             "ticks": ""
            },
            "type": "choropleth"
           }
          ],
          "contour": [
           {
            "colorbar": {
             "outlinewidth": 0,
             "ticks": ""
            },
            "colorscale": [
             [
              0,
              "#0d0887"
             ],
             [
              0.1111111111111111,
              "#46039f"
             ],
             [
              0.2222222222222222,
              "#7201a8"
             ],
             [
              0.3333333333333333,
              "#9c179e"
             ],
             [
              0.4444444444444444,
              "#bd3786"
             ],
             [
              0.5555555555555556,
              "#d8576b"
             ],
             [
              0.6666666666666666,
              "#ed7953"
             ],
             [
              0.7777777777777778,
              "#fb9f3a"
             ],
             [
              0.8888888888888888,
              "#fdca26"
             ],
             [
              1,
              "#f0f921"
             ]
            ],
            "type": "contour"
           }
          ],
          "contourcarpet": [
           {
            "colorbar": {
             "outlinewidth": 0,
             "ticks": ""
            },
            "type": "contourcarpet"
           }
          ],
          "heatmap": [
           {
            "colorbar": {
             "outlinewidth": 0,
             "ticks": ""
            },
            "colorscale": [
             [
              0,
              "#0d0887"
             ],
             [
              0.1111111111111111,
              "#46039f"
             ],
             [
              0.2222222222222222,
              "#7201a8"
             ],
             [
              0.3333333333333333,
              "#9c179e"
             ],
             [
              0.4444444444444444,
              "#bd3786"
             ],
             [
              0.5555555555555556,
              "#d8576b"
             ],
             [
              0.6666666666666666,
              "#ed7953"
             ],
             [
              0.7777777777777778,
              "#fb9f3a"
             ],
             [
              0.8888888888888888,
              "#fdca26"
             ],
             [
              1,
              "#f0f921"
             ]
            ],
            "type": "heatmap"
           }
          ],
          "heatmapgl": [
           {
            "colorbar": {
             "outlinewidth": 0,
             "ticks": ""
            },
            "colorscale": [
             [
              0,
              "#0d0887"
             ],
             [
              0.1111111111111111,
              "#46039f"
             ],
             [
              0.2222222222222222,
              "#7201a8"
             ],
             [
              0.3333333333333333,
              "#9c179e"
             ],
             [
              0.4444444444444444,
              "#bd3786"
             ],
             [
              0.5555555555555556,
              "#d8576b"
             ],
             [
              0.6666666666666666,
              "#ed7953"
             ],
             [
              0.7777777777777778,
              "#fb9f3a"
             ],
             [
              0.8888888888888888,
              "#fdca26"
             ],
             [
              1,
              "#f0f921"
             ]
            ],
            "type": "heatmapgl"
           }
          ],
          "histogram": [
           {
            "marker": {
             "pattern": {
              "fillmode": "overlay",
              "size": 10,
              "solidity": 0.2
             }
            },
            "type": "histogram"
           }
          ],
          "histogram2d": [
           {
            "colorbar": {
             "outlinewidth": 0,
             "ticks": ""
            },
            "colorscale": [
             [
              0,
              "#0d0887"
             ],
             [
              0.1111111111111111,
              "#46039f"
             ],
             [
              0.2222222222222222,
              "#7201a8"
             ],
             [
              0.3333333333333333,
              "#9c179e"
             ],
             [
              0.4444444444444444,
              "#bd3786"
             ],
             [
              0.5555555555555556,
              "#d8576b"
             ],
             [
              0.6666666666666666,
              "#ed7953"
             ],
             [
              0.7777777777777778,
              "#fb9f3a"
             ],
             [
              0.8888888888888888,
              "#fdca26"
             ],
             [
              1,
              "#f0f921"
             ]
            ],
            "type": "histogram2d"
           }
          ],
          "histogram2dcontour": [
           {
            "colorbar": {
             "outlinewidth": 0,
             "ticks": ""
            },
            "colorscale": [
             [
              0,
              "#0d0887"
             ],
             [
              0.1111111111111111,
              "#46039f"
             ],
             [
              0.2222222222222222,
              "#7201a8"
             ],
             [
              0.3333333333333333,
              "#9c179e"
             ],
             [
              0.4444444444444444,
              "#bd3786"
             ],
             [
              0.5555555555555556,
              "#d8576b"
             ],
             [
              0.6666666666666666,
              "#ed7953"
             ],
             [
              0.7777777777777778,
              "#fb9f3a"
             ],
             [
              0.8888888888888888,
              "#fdca26"
             ],
             [
              1,
              "#f0f921"
             ]
            ],
            "type": "histogram2dcontour"
           }
          ],
          "mesh3d": [
           {
            "colorbar": {
             "outlinewidth": 0,
             "ticks": ""
            },
            "type": "mesh3d"
           }
          ],
          "parcoords": [
           {
            "line": {
             "colorbar": {
              "outlinewidth": 0,
              "ticks": ""
             }
            },
            "type": "parcoords"
           }
          ],
          "pie": [
           {
            "automargin": true,
            "type": "pie"
           }
          ],
          "scatter": [
           {
            "fillpattern": {
             "fillmode": "overlay",
             "size": 10,
             "solidity": 0.2
            },
            "type": "scatter"
           }
          ],
          "scatter3d": [
           {
            "line": {
             "colorbar": {
              "outlinewidth": 0,
              "ticks": ""
             }
            },
            "marker": {
             "colorbar": {
              "outlinewidth": 0,
              "ticks": ""
             }
            },
            "type": "scatter3d"
           }
          ],
          "scattercarpet": [
           {
            "marker": {
             "colorbar": {
              "outlinewidth": 0,
              "ticks": ""
             }
            },
            "type": "scattercarpet"
           }
          ],
          "scattergeo": [
           {
            "marker": {
             "colorbar": {
              "outlinewidth": 0,
              "ticks": ""
             }
            },
            "type": "scattergeo"
           }
          ],
          "scattergl": [
           {
            "marker": {
             "colorbar": {
              "outlinewidth": 0,
              "ticks": ""
             }
            },
            "type": "scattergl"
           }
          ],
          "scattermapbox": [
           {
            "marker": {
             "colorbar": {
              "outlinewidth": 0,
              "ticks": ""
             }
            },
            "type": "scattermapbox"
           }
          ],
          "scatterpolar": [
           {
            "marker": {
             "colorbar": {
              "outlinewidth": 0,
              "ticks": ""
             }
            },
            "type": "scatterpolar"
           }
          ],
          "scatterpolargl": [
           {
            "marker": {
             "colorbar": {
              "outlinewidth": 0,
              "ticks": ""
             }
            },
            "type": "scatterpolargl"
           }
          ],
          "scatterternary": [
           {
            "marker": {
             "colorbar": {
              "outlinewidth": 0,
              "ticks": ""
             }
            },
            "type": "scatterternary"
           }
          ],
          "surface": [
           {
            "colorbar": {
             "outlinewidth": 0,
             "ticks": ""
            },
            "colorscale": [
             [
              0,
              "#0d0887"
             ],
             [
              0.1111111111111111,
              "#46039f"
             ],
             [
              0.2222222222222222,
              "#7201a8"
             ],
             [
              0.3333333333333333,
              "#9c179e"
             ],
             [
              0.4444444444444444,
              "#bd3786"
             ],
             [
              0.5555555555555556,
              "#d8576b"
             ],
             [
              0.6666666666666666,
              "#ed7953"
             ],
             [
              0.7777777777777778,
              "#fb9f3a"
             ],
             [
              0.8888888888888888,
              "#fdca26"
             ],
             [
              1,
              "#f0f921"
             ]
            ],
            "type": "surface"
           }
          ],
          "table": [
           {
            "cells": {
             "fill": {
              "color": "#EBF0F8"
             },
             "line": {
              "color": "white"
             }
            },
            "header": {
             "fill": {
              "color": "#C8D4E3"
             },
             "line": {
              "color": "white"
             }
            },
            "type": "table"
           }
          ]
         },
         "layout": {
          "annotationdefaults": {
           "arrowcolor": "#2a3f5f",
           "arrowhead": 0,
           "arrowwidth": 1
          },
          "autotypenumbers": "strict",
          "coloraxis": {
           "colorbar": {
            "outlinewidth": 0,
            "ticks": ""
           }
          },
          "colorscale": {
           "diverging": [
            [
             0,
             "#8e0152"
            ],
            [
             0.1,
             "#c51b7d"
            ],
            [
             0.2,
             "#de77ae"
            ],
            [
             0.3,
             "#f1b6da"
            ],
            [
             0.4,
             "#fde0ef"
            ],
            [
             0.5,
             "#f7f7f7"
            ],
            [
             0.6,
             "#e6f5d0"
            ],
            [
             0.7,
             "#b8e186"
            ],
            [
             0.8,
             "#7fbc41"
            ],
            [
             0.9,
             "#4d9221"
            ],
            [
             1,
             "#276419"
            ]
           ],
           "sequential": [
            [
             0,
             "#0d0887"
            ],
            [
             0.1111111111111111,
             "#46039f"
            ],
            [
             0.2222222222222222,
             "#7201a8"
            ],
            [
             0.3333333333333333,
             "#9c179e"
            ],
            [
             0.4444444444444444,
             "#bd3786"
            ],
            [
             0.5555555555555556,
             "#d8576b"
            ],
            [
             0.6666666666666666,
             "#ed7953"
            ],
            [
             0.7777777777777778,
             "#fb9f3a"
            ],
            [
             0.8888888888888888,
             "#fdca26"
            ],
            [
             1,
             "#f0f921"
            ]
           ],
           "sequentialminus": [
            [
             0,
             "#0d0887"
            ],
            [
             0.1111111111111111,
             "#46039f"
            ],
            [
             0.2222222222222222,
             "#7201a8"
            ],
            [
             0.3333333333333333,
             "#9c179e"
            ],
            [
             0.4444444444444444,
             "#bd3786"
            ],
            [
             0.5555555555555556,
             "#d8576b"
            ],
            [
             0.6666666666666666,
             "#ed7953"
            ],
            [
             0.7777777777777778,
             "#fb9f3a"
            ],
            [
             0.8888888888888888,
             "#fdca26"
            ],
            [
             1,
             "#f0f921"
            ]
           ]
          },
          "colorway": [
           "#636efa",
           "#EF553B",
           "#00cc96",
           "#ab63fa",
           "#FFA15A",
           "#19d3f3",
           "#FF6692",
           "#B6E880",
           "#FF97FF",
           "#FECB52"
          ],
          "font": {
           "color": "#2a3f5f"
          },
          "geo": {
           "bgcolor": "white",
           "lakecolor": "white",
           "landcolor": "#E5ECF6",
           "showlakes": true,
           "showland": true,
           "subunitcolor": "white"
          },
          "hoverlabel": {
           "align": "left"
          },
          "hovermode": "closest",
          "mapbox": {
           "style": "light"
          },
          "paper_bgcolor": "white",
          "plot_bgcolor": "#E5ECF6",
          "polar": {
           "angularaxis": {
            "gridcolor": "white",
            "linecolor": "white",
            "ticks": ""
           },
           "bgcolor": "#E5ECF6",
           "radialaxis": {
            "gridcolor": "white",
            "linecolor": "white",
            "ticks": ""
           }
          },
          "scene": {
           "xaxis": {
            "backgroundcolor": "#E5ECF6",
            "gridcolor": "white",
            "gridwidth": 2,
            "linecolor": "white",
            "showbackground": true,
            "ticks": "",
            "zerolinecolor": "white"
           },
           "yaxis": {
            "backgroundcolor": "#E5ECF6",
            "gridcolor": "white",
            "gridwidth": 2,
            "linecolor": "white",
            "showbackground": true,
            "ticks": "",
            "zerolinecolor": "white"
           },
           "zaxis": {
            "backgroundcolor": "#E5ECF6",
            "gridcolor": "white",
            "gridwidth": 2,
            "linecolor": "white",
            "showbackground": true,
            "ticks": "",
            "zerolinecolor": "white"
           }
          },
          "shapedefaults": {
           "line": {
            "color": "#2a3f5f"
           }
          },
          "ternary": {
           "aaxis": {
            "gridcolor": "white",
            "linecolor": "white",
            "ticks": ""
           },
           "baxis": {
            "gridcolor": "white",
            "linecolor": "white",
            "ticks": ""
           },
           "bgcolor": "#E5ECF6",
           "caxis": {
            "gridcolor": "white",
            "linecolor": "white",
            "ticks": ""
           }
          },
          "title": {
           "x": 0.05
          },
          "xaxis": {
           "automargin": true,
           "gridcolor": "white",
           "linecolor": "white",
           "ticks": "",
           "title": {
            "standoff": 15
           },
           "zerolinecolor": "white",
           "zerolinewidth": 2
          },
          "yaxis": {
           "automargin": true,
           "gridcolor": "white",
           "linecolor": "white",
           "ticks": "",
           "title": {
            "standoff": 15
           },
           "zerolinecolor": "white",
           "zerolinewidth": 2
          }
         }
        },
        "xaxis": {
         "anchor": "y",
         "domain": [
          0,
          1
         ],
         "title": {
          "text": "age"
         }
        },
        "yaxis": {
         "anchor": "x",
         "domain": [
          0,
          1
         ],
         "title": {
          "text": "value"
         }
        }
       }
      }
     },
     "metadata": {},
     "output_type": "display_data"
    }
   ],
   "source": [
    "# Insert code here\n",
    "# ...\n",
    "\n",
    "df_age_persons = df_census.groupby(\"age\")[\"weight\"].sum().reset_index()\n",
    "df_age = pd.merge(df_age, df_age_persons, on = \"age\")\n",
    "\n",
    "px.bar(df_age, x = \"age\", y = [\"count\", \"weight\"], barmode = \"group\")"
   ]
  },
  {
   "cell_type": "markdown",
   "id": "047708cb-c3f8-46c6-ae90-877708e6c912",
   "metadata": {},
   "source": [
    "**Task:** On average, how many persons are represented by one observation in the census data?"
   ]
  },
  {
   "cell_type": "code",
   "execution_count": 10,
   "id": "b6edcf4c-f8bf-44e1-8e5f-ff5c5a6d783b",
   "metadata": {},
   "outputs": [
    {
     "data": {
      "text/plain": [
       "3.417376034609183"
      ]
     },
     "execution_count": 10,
     "metadata": {},
     "output_type": "execute_result"
    }
   ],
   "source": [
    "# Insert code here\n",
    "# ...\n",
    "\n",
    "df_census[\"weight\"].mean()"
   ]
  },
  {
   "cell_type": "markdown",
   "id": "a24030c3-e348-48b6-95a1-36bc963bc8a9",
   "metadata": {},
   "source": [
    "Let's explore the data a bit further. \n",
    "\n",
    "**Task:** Show the number of persons for each socioprofessional category in a plot.\n",
    "\n",
    "Bonus: Instead of showing only CSP identifiers, can you show the name of the CSPs?\n",
    "\n",
    "Remember, the socioprofessional category is a classification of persons in France according to their job status:\n",
    "https://www.insee.fr/fr/metadonnees/pcs2003/categorieSocioprofessionnelleAgregee/1?champRecherche=true"
   ]
  },
  {
   "cell_type": "code",
   "execution_count": 11,
   "id": "becb1174-eead-4545-9328-13f0906f87d9",
   "metadata": {},
   "outputs": [
    {
     "data": {
      "application/vnd.plotly.v1+json": {
       "config": {
        "plotlyServerURL": "https://plot.ly"
       },
       "data": [
        {
         "alignmentgroup": "True",
         "hovertemplate": "csp=%{x}<br>weight=%{y}<extra></extra>",
         "legendgroup": "",
         "marker": {
          "color": "#636efa",
          "pattern": {
           "shape": ""
          }
         },
         "name": "",
         "offsetgroup": "",
         "orientation": "v",
         "showlegend": false,
         "textposition": "auto",
         "type": "bar",
         "x": [
          "Agriculteurs",
          "Artisans",
          "Cadres",
          "Intermédiaires",
          "Employés",
          "Ouvriers",
          "Retraités",
          "Autres"
         ],
         "xaxis": "x",
         "y": [
          423688.8451935988,
          1943655.0841020094,
          5232905.95021182,
          7772445.57095245,
          8831503.209898902,
          6621385.530523594,
          14846045.317374982,
          21313260.33339035
         ],
         "yaxis": "y"
        }
       ],
       "layout": {
        "barmode": "relative",
        "legend": {
         "tracegroupgap": 0
        },
        "margin": {
         "t": 60
        },
        "template": {
         "data": {
          "bar": [
           {
            "error_x": {
             "color": "#2a3f5f"
            },
            "error_y": {
             "color": "#2a3f5f"
            },
            "marker": {
             "line": {
              "color": "#E5ECF6",
              "width": 0.5
             },
             "pattern": {
              "fillmode": "overlay",
              "size": 10,
              "solidity": 0.2
             }
            },
            "type": "bar"
           }
          ],
          "barpolar": [
           {
            "marker": {
             "line": {
              "color": "#E5ECF6",
              "width": 0.5
             },
             "pattern": {
              "fillmode": "overlay",
              "size": 10,
              "solidity": 0.2
             }
            },
            "type": "barpolar"
           }
          ],
          "carpet": [
           {
            "aaxis": {
             "endlinecolor": "#2a3f5f",
             "gridcolor": "white",
             "linecolor": "white",
             "minorgridcolor": "white",
             "startlinecolor": "#2a3f5f"
            },
            "baxis": {
             "endlinecolor": "#2a3f5f",
             "gridcolor": "white",
             "linecolor": "white",
             "minorgridcolor": "white",
             "startlinecolor": "#2a3f5f"
            },
            "type": "carpet"
           }
          ],
          "choropleth": [
           {
            "colorbar": {
             "outlinewidth": 0,
             "ticks": ""
            },
            "type": "choropleth"
           }
          ],
          "contour": [
           {
            "colorbar": {
             "outlinewidth": 0,
             "ticks": ""
            },
            "colorscale": [
             [
              0,
              "#0d0887"
             ],
             [
              0.1111111111111111,
              "#46039f"
             ],
             [
              0.2222222222222222,
              "#7201a8"
             ],
             [
              0.3333333333333333,
              "#9c179e"
             ],
             [
              0.4444444444444444,
              "#bd3786"
             ],
             [
              0.5555555555555556,
              "#d8576b"
             ],
             [
              0.6666666666666666,
              "#ed7953"
             ],
             [
              0.7777777777777778,
              "#fb9f3a"
             ],
             [
              0.8888888888888888,
              "#fdca26"
             ],
             [
              1,
              "#f0f921"
             ]
            ],
            "type": "contour"
           }
          ],
          "contourcarpet": [
           {
            "colorbar": {
             "outlinewidth": 0,
             "ticks": ""
            },
            "type": "contourcarpet"
           }
          ],
          "heatmap": [
           {
            "colorbar": {
             "outlinewidth": 0,
             "ticks": ""
            },
            "colorscale": [
             [
              0,
              "#0d0887"
             ],
             [
              0.1111111111111111,
              "#46039f"
             ],
             [
              0.2222222222222222,
              "#7201a8"
             ],
             [
              0.3333333333333333,
              "#9c179e"
             ],
             [
              0.4444444444444444,
              "#bd3786"
             ],
             [
              0.5555555555555556,
              "#d8576b"
             ],
             [
              0.6666666666666666,
              "#ed7953"
             ],
             [
              0.7777777777777778,
              "#fb9f3a"
             ],
             [
              0.8888888888888888,
              "#fdca26"
             ],
             [
              1,
              "#f0f921"
             ]
            ],
            "type": "heatmap"
           }
          ],
          "heatmapgl": [
           {
            "colorbar": {
             "outlinewidth": 0,
             "ticks": ""
            },
            "colorscale": [
             [
              0,
              "#0d0887"
             ],
             [
              0.1111111111111111,
              "#46039f"
             ],
             [
              0.2222222222222222,
              "#7201a8"
             ],
             [
              0.3333333333333333,
              "#9c179e"
             ],
             [
              0.4444444444444444,
              "#bd3786"
             ],
             [
              0.5555555555555556,
              "#d8576b"
             ],
             [
              0.6666666666666666,
              "#ed7953"
             ],
             [
              0.7777777777777778,
              "#fb9f3a"
             ],
             [
              0.8888888888888888,
              "#fdca26"
             ],
             [
              1,
              "#f0f921"
             ]
            ],
            "type": "heatmapgl"
           }
          ],
          "histogram": [
           {
            "marker": {
             "pattern": {
              "fillmode": "overlay",
              "size": 10,
              "solidity": 0.2
             }
            },
            "type": "histogram"
           }
          ],
          "histogram2d": [
           {
            "colorbar": {
             "outlinewidth": 0,
             "ticks": ""
            },
            "colorscale": [
             [
              0,
              "#0d0887"
             ],
             [
              0.1111111111111111,
              "#46039f"
             ],
             [
              0.2222222222222222,
              "#7201a8"
             ],
             [
              0.3333333333333333,
              "#9c179e"
             ],
             [
              0.4444444444444444,
              "#bd3786"
             ],
             [
              0.5555555555555556,
              "#d8576b"
             ],
             [
              0.6666666666666666,
              "#ed7953"
             ],
             [
              0.7777777777777778,
              "#fb9f3a"
             ],
             [
              0.8888888888888888,
              "#fdca26"
             ],
             [
              1,
              "#f0f921"
             ]
            ],
            "type": "histogram2d"
           }
          ],
          "histogram2dcontour": [
           {
            "colorbar": {
             "outlinewidth": 0,
             "ticks": ""
            },
            "colorscale": [
             [
              0,
              "#0d0887"
             ],
             [
              0.1111111111111111,
              "#46039f"
             ],
             [
              0.2222222222222222,
              "#7201a8"
             ],
             [
              0.3333333333333333,
              "#9c179e"
             ],
             [
              0.4444444444444444,
              "#bd3786"
             ],
             [
              0.5555555555555556,
              "#d8576b"
             ],
             [
              0.6666666666666666,
              "#ed7953"
             ],
             [
              0.7777777777777778,
              "#fb9f3a"
             ],
             [
              0.8888888888888888,
              "#fdca26"
             ],
             [
              1,
              "#f0f921"
             ]
            ],
            "type": "histogram2dcontour"
           }
          ],
          "mesh3d": [
           {
            "colorbar": {
             "outlinewidth": 0,
             "ticks": ""
            },
            "type": "mesh3d"
           }
          ],
          "parcoords": [
           {
            "line": {
             "colorbar": {
              "outlinewidth": 0,
              "ticks": ""
             }
            },
            "type": "parcoords"
           }
          ],
          "pie": [
           {
            "automargin": true,
            "type": "pie"
           }
          ],
          "scatter": [
           {
            "fillpattern": {
             "fillmode": "overlay",
             "size": 10,
             "solidity": 0.2
            },
            "type": "scatter"
           }
          ],
          "scatter3d": [
           {
            "line": {
             "colorbar": {
              "outlinewidth": 0,
              "ticks": ""
             }
            },
            "marker": {
             "colorbar": {
              "outlinewidth": 0,
              "ticks": ""
             }
            },
            "type": "scatter3d"
           }
          ],
          "scattercarpet": [
           {
            "marker": {
             "colorbar": {
              "outlinewidth": 0,
              "ticks": ""
             }
            },
            "type": "scattercarpet"
           }
          ],
          "scattergeo": [
           {
            "marker": {
             "colorbar": {
              "outlinewidth": 0,
              "ticks": ""
             }
            },
            "type": "scattergeo"
           }
          ],
          "scattergl": [
           {
            "marker": {
             "colorbar": {
              "outlinewidth": 0,
              "ticks": ""
             }
            },
            "type": "scattergl"
           }
          ],
          "scattermapbox": [
           {
            "marker": {
             "colorbar": {
              "outlinewidth": 0,
              "ticks": ""
             }
            },
            "type": "scattermapbox"
           }
          ],
          "scatterpolar": [
           {
            "marker": {
             "colorbar": {
              "outlinewidth": 0,
              "ticks": ""
             }
            },
            "type": "scatterpolar"
           }
          ],
          "scatterpolargl": [
           {
            "marker": {
             "colorbar": {
              "outlinewidth": 0,
              "ticks": ""
             }
            },
            "type": "scatterpolargl"
           }
          ],
          "scatterternary": [
           {
            "marker": {
             "colorbar": {
              "outlinewidth": 0,
              "ticks": ""
             }
            },
            "type": "scatterternary"
           }
          ],
          "surface": [
           {
            "colorbar": {
             "outlinewidth": 0,
             "ticks": ""
            },
            "colorscale": [
             [
              0,
              "#0d0887"
             ],
             [
              0.1111111111111111,
              "#46039f"
             ],
             [
              0.2222222222222222,
              "#7201a8"
             ],
             [
              0.3333333333333333,
              "#9c179e"
             ],
             [
              0.4444444444444444,
              "#bd3786"
             ],
             [
              0.5555555555555556,
              "#d8576b"
             ],
             [
              0.6666666666666666,
              "#ed7953"
             ],
             [
              0.7777777777777778,
              "#fb9f3a"
             ],
             [
              0.8888888888888888,
              "#fdca26"
             ],
             [
              1,
              "#f0f921"
             ]
            ],
            "type": "surface"
           }
          ],
          "table": [
           {
            "cells": {
             "fill": {
              "color": "#EBF0F8"
             },
             "line": {
              "color": "white"
             }
            },
            "header": {
             "fill": {
              "color": "#C8D4E3"
             },
             "line": {
              "color": "white"
             }
            },
            "type": "table"
           }
          ]
         },
         "layout": {
          "annotationdefaults": {
           "arrowcolor": "#2a3f5f",
           "arrowhead": 0,
           "arrowwidth": 1
          },
          "autotypenumbers": "strict",
          "coloraxis": {
           "colorbar": {
            "outlinewidth": 0,
            "ticks": ""
           }
          },
          "colorscale": {
           "diverging": [
            [
             0,
             "#8e0152"
            ],
            [
             0.1,
             "#c51b7d"
            ],
            [
             0.2,
             "#de77ae"
            ],
            [
             0.3,
             "#f1b6da"
            ],
            [
             0.4,
             "#fde0ef"
            ],
            [
             0.5,
             "#f7f7f7"
            ],
            [
             0.6,
             "#e6f5d0"
            ],
            [
             0.7,
             "#b8e186"
            ],
            [
             0.8,
             "#7fbc41"
            ],
            [
             0.9,
             "#4d9221"
            ],
            [
             1,
             "#276419"
            ]
           ],
           "sequential": [
            [
             0,
             "#0d0887"
            ],
            [
             0.1111111111111111,
             "#46039f"
            ],
            [
             0.2222222222222222,
             "#7201a8"
            ],
            [
             0.3333333333333333,
             "#9c179e"
            ],
            [
             0.4444444444444444,
             "#bd3786"
            ],
            [
             0.5555555555555556,
             "#d8576b"
            ],
            [
             0.6666666666666666,
             "#ed7953"
            ],
            [
             0.7777777777777778,
             "#fb9f3a"
            ],
            [
             0.8888888888888888,
             "#fdca26"
            ],
            [
             1,
             "#f0f921"
            ]
           ],
           "sequentialminus": [
            [
             0,
             "#0d0887"
            ],
            [
             0.1111111111111111,
             "#46039f"
            ],
            [
             0.2222222222222222,
             "#7201a8"
            ],
            [
             0.3333333333333333,
             "#9c179e"
            ],
            [
             0.4444444444444444,
             "#bd3786"
            ],
            [
             0.5555555555555556,
             "#d8576b"
            ],
            [
             0.6666666666666666,
             "#ed7953"
            ],
            [
             0.7777777777777778,
             "#fb9f3a"
            ],
            [
             0.8888888888888888,
             "#fdca26"
            ],
            [
             1,
             "#f0f921"
            ]
           ]
          },
          "colorway": [
           "#636efa",
           "#EF553B",
           "#00cc96",
           "#ab63fa",
           "#FFA15A",
           "#19d3f3",
           "#FF6692",
           "#B6E880",
           "#FF97FF",
           "#FECB52"
          ],
          "font": {
           "color": "#2a3f5f"
          },
          "geo": {
           "bgcolor": "white",
           "lakecolor": "white",
           "landcolor": "#E5ECF6",
           "showlakes": true,
           "showland": true,
           "subunitcolor": "white"
          },
          "hoverlabel": {
           "align": "left"
          },
          "hovermode": "closest",
          "mapbox": {
           "style": "light"
          },
          "paper_bgcolor": "white",
          "plot_bgcolor": "#E5ECF6",
          "polar": {
           "angularaxis": {
            "gridcolor": "white",
            "linecolor": "white",
            "ticks": ""
           },
           "bgcolor": "#E5ECF6",
           "radialaxis": {
            "gridcolor": "white",
            "linecolor": "white",
            "ticks": ""
           }
          },
          "scene": {
           "xaxis": {
            "backgroundcolor": "#E5ECF6",
            "gridcolor": "white",
            "gridwidth": 2,
            "linecolor": "white",
            "showbackground": true,
            "ticks": "",
            "zerolinecolor": "white"
           },
           "yaxis": {
            "backgroundcolor": "#E5ECF6",
            "gridcolor": "white",
            "gridwidth": 2,
            "linecolor": "white",
            "showbackground": true,
            "ticks": "",
            "zerolinecolor": "white"
           },
           "zaxis": {
            "backgroundcolor": "#E5ECF6",
            "gridcolor": "white",
            "gridwidth": 2,
            "linecolor": "white",
            "showbackground": true,
            "ticks": "",
            "zerolinecolor": "white"
           }
          },
          "shapedefaults": {
           "line": {
            "color": "#2a3f5f"
           }
          },
          "ternary": {
           "aaxis": {
            "gridcolor": "white",
            "linecolor": "white",
            "ticks": ""
           },
           "baxis": {
            "gridcolor": "white",
            "linecolor": "white",
            "ticks": ""
           },
           "bgcolor": "#E5ECF6",
           "caxis": {
            "gridcolor": "white",
            "linecolor": "white",
            "ticks": ""
           }
          },
          "title": {
           "x": 0.05
          },
          "xaxis": {
           "automargin": true,
           "gridcolor": "white",
           "linecolor": "white",
           "ticks": "",
           "title": {
            "standoff": 15
           },
           "zerolinecolor": "white",
           "zerolinewidth": 2
          },
          "yaxis": {
           "automargin": true,
           "gridcolor": "white",
           "linecolor": "white",
           "ticks": "",
           "title": {
            "standoff": 15
           },
           "zerolinecolor": "white",
           "zerolinewidth": 2
          }
         }
        },
        "xaxis": {
         "anchor": "y",
         "domain": [
          0,
          1
         ],
         "title": {
          "text": "csp"
         }
        },
        "yaxis": {
         "anchor": "x",
         "domain": [
          0,
          1
         ],
         "title": {
          "text": "weight"
         }
        }
       }
      }
     },
     "metadata": {},
     "output_type": "display_data"
    }
   ],
   "source": [
    "# Insert code here\n",
    "# ...\n",
    "\n",
    "df_csp = df_census.groupby(\"csp\")[\"weight\"].sum().reset_index()\n",
    "df_csp = df_csp.replace({\n",
    "    1: \"Agriculteurs\",\n",
    "    2: \"Artisans\",\n",
    "    3: \"Cadres\",\n",
    "    4: \"Intermédiaires\",\n",
    "    5: \"Employés\",\n",
    "    6: \"Ouvriers\",\n",
    "    7: \"Retraités\",\n",
    "    8: \"Autres\"\n",
    "})\n",
    "\n",
    "px.bar(df_csp, x = \"csp\", y = \"weight\")"
   ]
  },
  {
   "cell_type": "markdown",
   "id": "91d820b4-1f2a-4ac3-a640-ecf594beea8c",
   "metadata": {},
   "source": [
    "**Task:** Show a bar plot with one age distribution per CSP in different colors and use it to compare the age distribution of at least three CSP.\n",
    "\n",
    "Hint:\n",
    "- You will need to aggregate over two columns this time."
   ]
  },
  {
   "cell_type": "code",
   "execution_count": 12,
   "id": "9cc17dc5-8c3f-434d-b735-4ce934050718",
   "metadata": {},
   "outputs": [
    {
     "name": "stderr",
     "output_type": "stream",
     "text": [
      "c:\\Apps space\\conda\\envs\\simu-cour\\Lib\\site-packages\\plotly\\express\\_core.py:2065: FutureWarning:\n",
      "\n",
      "When grouping with a length-1 list-like, you will need to pass a length-1 tuple to get_group in a future version of pandas. Pass `(name,)` instead of `name` to silence this warning.\n",
      "\n"
     ]
    },
    {
     "data": {
      "application/vnd.plotly.v1+json": {
       "config": {
        "plotlyServerURL": "https://plot.ly"
       },
       "data": [
        {
         "alignmentgroup": "True",
         "hovertemplate": "csp=3<br>age=%{x}<br>weight=%{y}<extra></extra>",
         "legendgroup": "3",
         "marker": {
          "color": "#636efa",
          "pattern": {
           "shape": ""
          }
         },
         "name": "3",
         "offsetgroup": "3",
         "orientation": "v",
         "showlegend": true,
         "textposition": "auto",
         "type": "bar",
         "x": [
          14,
          15,
          16,
          17,
          18,
          19,
          20,
          21,
          22,
          23,
          24,
          25,
          26,
          27,
          28,
          29,
          30,
          31,
          32,
          33,
          34,
          35,
          36,
          37,
          38,
          39,
          40,
          41,
          42,
          43,
          44,
          45,
          46,
          47,
          48,
          49,
          50,
          51,
          52,
          53,
          54,
          55,
          56,
          57,
          58,
          59,
          60,
          61,
          62,
          63,
          64,
          65,
          66,
          67,
          68,
          69,
          70,
          71,
          72,
          73,
          74,
          75,
          76,
          77,
          78,
          79,
          80,
          81,
          82,
          83,
          84,
          85,
          86,
          87,
          88,
          89,
          90,
          91,
          92,
          93,
          94,
          95,
          96,
          97,
          98,
          99,
          100,
          101,
          102,
          103,
          104,
          105,
          106,
          107,
          108,
          110,
          111,
          112,
          113,
          114,
          115,
          116,
          117
         ],
         "xaxis": "x",
         "y": [
          2.855066,
          58.19078108779573,
          137.62851579315068,
          185.43673318098863,
          273.6635843316809,
          1094.2881374137992,
          2367.1311319277356,
          8567.021405009082,
          14882.948696771016,
          26244.613615855316,
          47710.54463489093,
          70448.65380713715,
          94055.70842796519,
          105575.26146326827,
          113164.01613375501,
          119164.19847731254,
          120918.15642157083,
          125704.18670808771,
          126679.60776623829,
          130298.02564027483,
          133037.80250108693,
          133895.68796471797,
          138807.20639052405,
          139773.90796037097,
          144418.02333850026,
          144974.77804956923,
          146258.15535243042,
          144903.72406503375,
          146274.90873990257,
          146914.5107934441,
          150255.45921356382,
          153809.22013924728,
          155225.4386282832,
          152440.9528350584,
          149491.76400869573,
          145160.61104514883,
          141749.22847185665,
          137621.8270334938,
          135692.57462657304,
          135798.03580879478,
          132089.91500226833,
          131209.64340835,
          126847.10963542451,
          122067.25773917737,
          118384.49650552121,
          113176.62407181416,
          106334.9974099911,
          90294.92854352771,
          76695.32778468271,
          54245.37806724336,
          42057.47870883175,
          32605.723748326076,
          21149.83060590573,
          14994.838721864335,
          12268.743371980912,
          10410.474862093986,
          8572.72817411255,
          6416.705228386625,
          5416.591036703755,
          4247.80303116062,
          3439.9879772264776,
          2646.889605120758,
          2004.3500043188776,
          1715.875832125354,
          1440.731884974244,
          1180.5218227412663,
          1076.7055951436928,
          909.4221235217183,
          821.4452934925465,
          549.0103118379104,
          586.1974802997464,
          526.7403264356283,
          455.37425015042436,
          321.16448746796243,
          374.27200293808454,
          260.08490473495425,
          218.75301001152232,
          100.21685160914922,
          119.48852788768906,
          146.24858263747078,
          124.34636543147516,
          55.01236203142367,
          75.5414155537115,
          30.90034853354765,
          23.965284360623627,
          38.60690001470805,
          3.181231,
          9.511852000000001,
          3.078702,
          5.18703403011769,
          12.27323664223516,
          6.76923065870212,
          2.97587412227963,
          1.096028,
          0.9459083,
          5.34368675325023,
          14.56820608677235,
          6.6487191,
          12.91444093429617,
          6.8174500475238204,
          10.640638847523821,
          25.82871351755344,
          13.76593764493591
         ],
         "yaxis": "y"
        },
        {
         "alignmentgroup": "True",
         "hovertemplate": "csp=5<br>age=%{x}<br>weight=%{y}<extra></extra>",
         "legendgroup": "5",
         "marker": {
          "color": "#EF553B",
          "pattern": {
           "shape": ""
          }
         },
         "name": "5",
         "offsetgroup": "5",
         "orientation": "v",
         "showlegend": true,
         "textposition": "auto",
         "type": "bar",
         "x": [
          14,
          15,
          16,
          17,
          18,
          19,
          20,
          21,
          22,
          23,
          24,
          25,
          26,
          27,
          28,
          29,
          30,
          31,
          32,
          33,
          34,
          35,
          36,
          37,
          38,
          39,
          40,
          41,
          42,
          43,
          44,
          45,
          46,
          47,
          48,
          49,
          50,
          51,
          52,
          53,
          54,
          55,
          56,
          57,
          58,
          59,
          60,
          61,
          62,
          63,
          64,
          65,
          66,
          67,
          68,
          69,
          70,
          71,
          72,
          73,
          74,
          75,
          76,
          77,
          78,
          79,
          80,
          81,
          82,
          83,
          84,
          85,
          86,
          87,
          88,
          89,
          90,
          91,
          92,
          93,
          94,
          95,
          96,
          97,
          98,
          99,
          100,
          101,
          102,
          103,
          104,
          105,
          106,
          107,
          109,
          110,
          111,
          112,
          113,
          114,
          115,
          116,
          117
         ],
         "xaxis": "x",
         "y": [
          137.09330291228014,
          2528.5465875312407,
          7704.810400147445,
          16216.074252376062,
          24508.53325288768,
          69248.28379958001,
          114775.92526577055,
          152187.6995849705,
          174372.84815850854,
          185707.7638920446,
          194285.168276738,
          196121.75740536422,
          197120.05279707213,
          200231.20074622557,
          200366.84514874706,
          202985.14514094518,
          202157.59918739623,
          201064.7995406007,
          200534.5216078732,
          196941.20784810948,
          201278.62449215155,
          201816.19378089724,
          200497.41253303818,
          200960.62992982016,
          202388.3386779078,
          198290.28326519954,
          193964.1464301693,
          192407.78840200446,
          196710.3986270325,
          203293.01810029332,
          211254.36583156695,
          218963.00370969513,
          223538.90505145828,
          224165.64518459,
          225890.47193395006,
          221371.39698317557,
          224151.56215333595,
          224199.4938168433,
          225005.28847764086,
          223827.89967278537,
          220685.28512906912,
          218153.94217785043,
          211719.36839496653,
          206747.87477876255,
          194938.34073491968,
          187077.03259499397,
          172972.30026065029,
          134775.39852459688,
          105715.58784214279,
          56976.574311536475,
          44660.76524614399,
          34391.42346950433,
          20945.133978139183,
          11976.970227699918,
          9317.961001375666,
          7922.721451870097,
          6527.736790309811,
          4979.567247784083,
          3119.644893180482,
          2713.4080446523926,
          2393.898563089753,
          2063.934191729595,
          1727.7985690459966,
          1406.0348010264029,
          1471.4359964489038,
          1258.355341899858,
          1190.9297970770767,
          1221.08131863648,
          1230.4936267881947,
          938.14024845827,
          940.6697871005462,
          981.4985546755107,
          902.7418733709151,
          711.8411983199184,
          620.0730633622575,
          618.1906370047549,
          366.97413380492674,
          353.89049588493526,
          318.40129334364326,
          306.5680051781082,
          240.20156064906953,
          165.7380666000857,
          143.08028862833427,
          89.11232932938704,
          60.35474961595738,
          50.89802007606146,
          50.15596204252106,
          25.5243201465401,
          5.000481,
          28.616923819706066,
          9.550509197880409,
          9.943271298870101,
          7.155406805078631,
          5.16717,
          9.676898824828701,
          18.531699,
          10.05357064615378,
          1.051792,
          4.222969,
          3.761574,
          8.326227874071481,
          22.75979850580858,
          23.59446409072326
         ],
         "yaxis": "y"
        },
        {
         "alignmentgroup": "True",
         "hovertemplate": "csp=1<br>age=%{x}<br>weight=%{y}<extra></extra>",
         "legendgroup": "1",
         "marker": {
          "color": "#00cc96",
          "pattern": {
           "shape": ""
          }
         },
         "name": "1",
         "offsetgroup": "1",
         "orientation": "v",
         "showlegend": true,
         "textposition": "auto",
         "type": "bar",
         "x": [
          15,
          16,
          17,
          18,
          19,
          20,
          21,
          22,
          23,
          24,
          25,
          26,
          27,
          28,
          29,
          30,
          31,
          32,
          33,
          34,
          35,
          36,
          37,
          38,
          39,
          40,
          41,
          42,
          43,
          44,
          45,
          46,
          47,
          48,
          49,
          50,
          51,
          52,
          53,
          54,
          55,
          56,
          57,
          58,
          59,
          60,
          61,
          62,
          63,
          64,
          65,
          66,
          67,
          68,
          69,
          70,
          71,
          72,
          73,
          74,
          75,
          76,
          77,
          78,
          79,
          80,
          81,
          82,
          83,
          84,
          85,
          86,
          87,
          88,
          89,
          90,
          91,
          92,
          93,
          94,
          95,
          96,
          97,
          98,
          99,
          107,
          112
         ],
         "xaxis": "x",
         "y": [
          32.00128581292605,
          59.58119877390055,
          93.8828569346958,
          179.58769343706072,
          361.1841398793798,
          651.5710558463716,
          1032.7547429892543,
          1262.4215731690856,
          1774.315469620957,
          2055.7793832585726,
          2505.2957966024596,
          2962.385359294297,
          3348.5133843889807,
          3816.6968914031804,
          4458.760299863669,
          4813.603910612031,
          5562.601915696525,
          6037.8741079007295,
          6317.177187167647,
          6712.7731297987775,
          6729.619850370577,
          7129.517773999136,
          7364.181404088055,
          7692.31438702862,
          7858.787823353675,
          8278.624813956723,
          8107.371411487131,
          8388.747308282509,
          8808.47714812833,
          9412.996479798385,
          10062.849674636776,
          10692.250213719975,
          11534.160568834212,
          12185.48788308866,
          12117.885921311807,
          12767.777904705685,
          13462.999995161459,
          14643.55105439046,
          15332.699986995494,
          15933.358113081917,
          16432.4555680505,
          16909.64476779195,
          16632.623336122473,
          16690.575260976388,
          16816.530151065872,
          16158.947793683876,
          12573.677478556066,
          10221.56638657296,
          6742.365163244745,
          5517.659568770113,
          4389.522529731056,
          3728.46891289158,
          3083.965622839125,
          2506.960278588013,
          2213.080002747707,
          1858.291503516253,
          1369.162676225242,
          975.6146549541717,
          804.7270119194037,
          664.9852574655691,
          543.2208786448857,
          476.64842202885495,
          379.4207558821396,
          363.23971536838826,
          268.1898602878213,
          354.03365962101515,
          301.08834013811986,
          283.06934520617455,
          289.77386036448013,
          278.85677279778736,
          232.15896338811652,
          218.60044033620497,
          238.08027362273984,
          173.15158066734023,
          98.56153800511863,
          83.54663510904278,
          75.25580147474147,
          55.914713281192675,
          30.44976080958606,
          31.517459314340122,
          23.201764340297352,
          15.132728,
          15.05737018737518,
          4.996287,
          15.232133212043,
          6.057374118644068,
          1.14373580923108
         ],
         "yaxis": "y"
        }
       ],
       "layout": {
        "barmode": "group",
        "legend": {
         "title": {
          "text": "csp"
         },
         "tracegroupgap": 0
        },
        "margin": {
         "t": 60
        },
        "template": {
         "data": {
          "bar": [
           {
            "error_x": {
             "color": "#2a3f5f"
            },
            "error_y": {
             "color": "#2a3f5f"
            },
            "marker": {
             "line": {
              "color": "#E5ECF6",
              "width": 0.5
             },
             "pattern": {
              "fillmode": "overlay",
              "size": 10,
              "solidity": 0.2
             }
            },
            "type": "bar"
           }
          ],
          "barpolar": [
           {
            "marker": {
             "line": {
              "color": "#E5ECF6",
              "width": 0.5
             },
             "pattern": {
              "fillmode": "overlay",
              "size": 10,
              "solidity": 0.2
             }
            },
            "type": "barpolar"
           }
          ],
          "carpet": [
           {
            "aaxis": {
             "endlinecolor": "#2a3f5f",
             "gridcolor": "white",
             "linecolor": "white",
             "minorgridcolor": "white",
             "startlinecolor": "#2a3f5f"
            },
            "baxis": {
             "endlinecolor": "#2a3f5f",
             "gridcolor": "white",
             "linecolor": "white",
             "minorgridcolor": "white",
             "startlinecolor": "#2a3f5f"
            },
            "type": "carpet"
           }
          ],
          "choropleth": [
           {
            "colorbar": {
             "outlinewidth": 0,
             "ticks": ""
            },
            "type": "choropleth"
           }
          ],
          "contour": [
           {
            "colorbar": {
             "outlinewidth": 0,
             "ticks": ""
            },
            "colorscale": [
             [
              0,
              "#0d0887"
             ],
             [
              0.1111111111111111,
              "#46039f"
             ],
             [
              0.2222222222222222,
              "#7201a8"
             ],
             [
              0.3333333333333333,
              "#9c179e"
             ],
             [
              0.4444444444444444,
              "#bd3786"
             ],
             [
              0.5555555555555556,
              "#d8576b"
             ],
             [
              0.6666666666666666,
              "#ed7953"
             ],
             [
              0.7777777777777778,
              "#fb9f3a"
             ],
             [
              0.8888888888888888,
              "#fdca26"
             ],
             [
              1,
              "#f0f921"
             ]
            ],
            "type": "contour"
           }
          ],
          "contourcarpet": [
           {
            "colorbar": {
             "outlinewidth": 0,
             "ticks": ""
            },
            "type": "contourcarpet"
           }
          ],
          "heatmap": [
           {
            "colorbar": {
             "outlinewidth": 0,
             "ticks": ""
            },
            "colorscale": [
             [
              0,
              "#0d0887"
             ],
             [
              0.1111111111111111,
              "#46039f"
             ],
             [
              0.2222222222222222,
              "#7201a8"
             ],
             [
              0.3333333333333333,
              "#9c179e"
             ],
             [
              0.4444444444444444,
              "#bd3786"
             ],
             [
              0.5555555555555556,
              "#d8576b"
             ],
             [
              0.6666666666666666,
              "#ed7953"
             ],
             [
              0.7777777777777778,
              "#fb9f3a"
             ],
             [
              0.8888888888888888,
              "#fdca26"
             ],
             [
              1,
              "#f0f921"
             ]
            ],
            "type": "heatmap"
           }
          ],
          "heatmapgl": [
           {
            "colorbar": {
             "outlinewidth": 0,
             "ticks": ""
            },
            "colorscale": [
             [
              0,
              "#0d0887"
             ],
             [
              0.1111111111111111,
              "#46039f"
             ],
             [
              0.2222222222222222,
              "#7201a8"
             ],
             [
              0.3333333333333333,
              "#9c179e"
             ],
             [
              0.4444444444444444,
              "#bd3786"
             ],
             [
              0.5555555555555556,
              "#d8576b"
             ],
             [
              0.6666666666666666,
              "#ed7953"
             ],
             [
              0.7777777777777778,
              "#fb9f3a"
             ],
             [
              0.8888888888888888,
              "#fdca26"
             ],
             [
              1,
              "#f0f921"
             ]
            ],
            "type": "heatmapgl"
           }
          ],
          "histogram": [
           {
            "marker": {
             "pattern": {
              "fillmode": "overlay",
              "size": 10,
              "solidity": 0.2
             }
            },
            "type": "histogram"
           }
          ],
          "histogram2d": [
           {
            "colorbar": {
             "outlinewidth": 0,
             "ticks": ""
            },
            "colorscale": [
             [
              0,
              "#0d0887"
             ],
             [
              0.1111111111111111,
              "#46039f"
             ],
             [
              0.2222222222222222,
              "#7201a8"
             ],
             [
              0.3333333333333333,
              "#9c179e"
             ],
             [
              0.4444444444444444,
              "#bd3786"
             ],
             [
              0.5555555555555556,
              "#d8576b"
             ],
             [
              0.6666666666666666,
              "#ed7953"
             ],
             [
              0.7777777777777778,
              "#fb9f3a"
             ],
             [
              0.8888888888888888,
              "#fdca26"
             ],
             [
              1,
              "#f0f921"
             ]
            ],
            "type": "histogram2d"
           }
          ],
          "histogram2dcontour": [
           {
            "colorbar": {
             "outlinewidth": 0,
             "ticks": ""
            },
            "colorscale": [
             [
              0,
              "#0d0887"
             ],
             [
              0.1111111111111111,
              "#46039f"
             ],
             [
              0.2222222222222222,
              "#7201a8"
             ],
             [
              0.3333333333333333,
              "#9c179e"
             ],
             [
              0.4444444444444444,
              "#bd3786"
             ],
             [
              0.5555555555555556,
              "#d8576b"
             ],
             [
              0.6666666666666666,
              "#ed7953"
             ],
             [
              0.7777777777777778,
              "#fb9f3a"
             ],
             [
              0.8888888888888888,
              "#fdca26"
             ],
             [
              1,
              "#f0f921"
             ]
            ],
            "type": "histogram2dcontour"
           }
          ],
          "mesh3d": [
           {
            "colorbar": {
             "outlinewidth": 0,
             "ticks": ""
            },
            "type": "mesh3d"
           }
          ],
          "parcoords": [
           {
            "line": {
             "colorbar": {
              "outlinewidth": 0,
              "ticks": ""
             }
            },
            "type": "parcoords"
           }
          ],
          "pie": [
           {
            "automargin": true,
            "type": "pie"
           }
          ],
          "scatter": [
           {
            "fillpattern": {
             "fillmode": "overlay",
             "size": 10,
             "solidity": 0.2
            },
            "type": "scatter"
           }
          ],
          "scatter3d": [
           {
            "line": {
             "colorbar": {
              "outlinewidth": 0,
              "ticks": ""
             }
            },
            "marker": {
             "colorbar": {
              "outlinewidth": 0,
              "ticks": ""
             }
            },
            "type": "scatter3d"
           }
          ],
          "scattercarpet": [
           {
            "marker": {
             "colorbar": {
              "outlinewidth": 0,
              "ticks": ""
             }
            },
            "type": "scattercarpet"
           }
          ],
          "scattergeo": [
           {
            "marker": {
             "colorbar": {
              "outlinewidth": 0,
              "ticks": ""
             }
            },
            "type": "scattergeo"
           }
          ],
          "scattergl": [
           {
            "marker": {
             "colorbar": {
              "outlinewidth": 0,
              "ticks": ""
             }
            },
            "type": "scattergl"
           }
          ],
          "scattermapbox": [
           {
            "marker": {
             "colorbar": {
              "outlinewidth": 0,
              "ticks": ""
             }
            },
            "type": "scattermapbox"
           }
          ],
          "scatterpolar": [
           {
            "marker": {
             "colorbar": {
              "outlinewidth": 0,
              "ticks": ""
             }
            },
            "type": "scatterpolar"
           }
          ],
          "scatterpolargl": [
           {
            "marker": {
             "colorbar": {
              "outlinewidth": 0,
              "ticks": ""
             }
            },
            "type": "scatterpolargl"
           }
          ],
          "scatterternary": [
           {
            "marker": {
             "colorbar": {
              "outlinewidth": 0,
              "ticks": ""
             }
            },
            "type": "scatterternary"
           }
          ],
          "surface": [
           {
            "colorbar": {
             "outlinewidth": 0,
             "ticks": ""
            },
            "colorscale": [
             [
              0,
              "#0d0887"
             ],
             [
              0.1111111111111111,
              "#46039f"
             ],
             [
              0.2222222222222222,
              "#7201a8"
             ],
             [
              0.3333333333333333,
              "#9c179e"
             ],
             [
              0.4444444444444444,
              "#bd3786"
             ],
             [
              0.5555555555555556,
              "#d8576b"
             ],
             [
              0.6666666666666666,
              "#ed7953"
             ],
             [
              0.7777777777777778,
              "#fb9f3a"
             ],
             [
              0.8888888888888888,
              "#fdca26"
             ],
             [
              1,
              "#f0f921"
             ]
            ],
            "type": "surface"
           }
          ],
          "table": [
           {
            "cells": {
             "fill": {
              "color": "#EBF0F8"
             },
             "line": {
              "color": "white"
             }
            },
            "header": {
             "fill": {
              "color": "#C8D4E3"
             },
             "line": {
              "color": "white"
             }
            },
            "type": "table"
           }
          ]
         },
         "layout": {
          "annotationdefaults": {
           "arrowcolor": "#2a3f5f",
           "arrowhead": 0,
           "arrowwidth": 1
          },
          "autotypenumbers": "strict",
          "coloraxis": {
           "colorbar": {
            "outlinewidth": 0,
            "ticks": ""
           }
          },
          "colorscale": {
           "diverging": [
            [
             0,
             "#8e0152"
            ],
            [
             0.1,
             "#c51b7d"
            ],
            [
             0.2,
             "#de77ae"
            ],
            [
             0.3,
             "#f1b6da"
            ],
            [
             0.4,
             "#fde0ef"
            ],
            [
             0.5,
             "#f7f7f7"
            ],
            [
             0.6,
             "#e6f5d0"
            ],
            [
             0.7,
             "#b8e186"
            ],
            [
             0.8,
             "#7fbc41"
            ],
            [
             0.9,
             "#4d9221"
            ],
            [
             1,
             "#276419"
            ]
           ],
           "sequential": [
            [
             0,
             "#0d0887"
            ],
            [
             0.1111111111111111,
             "#46039f"
            ],
            [
             0.2222222222222222,
             "#7201a8"
            ],
            [
             0.3333333333333333,
             "#9c179e"
            ],
            [
             0.4444444444444444,
             "#bd3786"
            ],
            [
             0.5555555555555556,
             "#d8576b"
            ],
            [
             0.6666666666666666,
             "#ed7953"
            ],
            [
             0.7777777777777778,
             "#fb9f3a"
            ],
            [
             0.8888888888888888,
             "#fdca26"
            ],
            [
             1,
             "#f0f921"
            ]
           ],
           "sequentialminus": [
            [
             0,
             "#0d0887"
            ],
            [
             0.1111111111111111,
             "#46039f"
            ],
            [
             0.2222222222222222,
             "#7201a8"
            ],
            [
             0.3333333333333333,
             "#9c179e"
            ],
            [
             0.4444444444444444,
             "#bd3786"
            ],
            [
             0.5555555555555556,
             "#d8576b"
            ],
            [
             0.6666666666666666,
             "#ed7953"
            ],
            [
             0.7777777777777778,
             "#fb9f3a"
            ],
            [
             0.8888888888888888,
             "#fdca26"
            ],
            [
             1,
             "#f0f921"
            ]
           ]
          },
          "colorway": [
           "#636efa",
           "#EF553B",
           "#00cc96",
           "#ab63fa",
           "#FFA15A",
           "#19d3f3",
           "#FF6692",
           "#B6E880",
           "#FF97FF",
           "#FECB52"
          ],
          "font": {
           "color": "#2a3f5f"
          },
          "geo": {
           "bgcolor": "white",
           "lakecolor": "white",
           "landcolor": "#E5ECF6",
           "showlakes": true,
           "showland": true,
           "subunitcolor": "white"
          },
          "hoverlabel": {
           "align": "left"
          },
          "hovermode": "closest",
          "mapbox": {
           "style": "light"
          },
          "paper_bgcolor": "white",
          "plot_bgcolor": "#E5ECF6",
          "polar": {
           "angularaxis": {
            "gridcolor": "white",
            "linecolor": "white",
            "ticks": ""
           },
           "bgcolor": "#E5ECF6",
           "radialaxis": {
            "gridcolor": "white",
            "linecolor": "white",
            "ticks": ""
           }
          },
          "scene": {
           "xaxis": {
            "backgroundcolor": "#E5ECF6",
            "gridcolor": "white",
            "gridwidth": 2,
            "linecolor": "white",
            "showbackground": true,
            "ticks": "",
            "zerolinecolor": "white"
           },
           "yaxis": {
            "backgroundcolor": "#E5ECF6",
            "gridcolor": "white",
            "gridwidth": 2,
            "linecolor": "white",
            "showbackground": true,
            "ticks": "",
            "zerolinecolor": "white"
           },
           "zaxis": {
            "backgroundcolor": "#E5ECF6",
            "gridcolor": "white",
            "gridwidth": 2,
            "linecolor": "white",
            "showbackground": true,
            "ticks": "",
            "zerolinecolor": "white"
           }
          },
          "shapedefaults": {
           "line": {
            "color": "#2a3f5f"
           }
          },
          "ternary": {
           "aaxis": {
            "gridcolor": "white",
            "linecolor": "white",
            "ticks": ""
           },
           "baxis": {
            "gridcolor": "white",
            "linecolor": "white",
            "ticks": ""
           },
           "bgcolor": "#E5ECF6",
           "caxis": {
            "gridcolor": "white",
            "linecolor": "white",
            "ticks": ""
           }
          },
          "title": {
           "x": 0.05
          },
          "xaxis": {
           "automargin": true,
           "gridcolor": "white",
           "linecolor": "white",
           "ticks": "",
           "title": {
            "standoff": 15
           },
           "zerolinecolor": "white",
           "zerolinewidth": 2
          },
          "yaxis": {
           "automargin": true,
           "gridcolor": "white",
           "linecolor": "white",
           "ticks": "",
           "title": {
            "standoff": 15
           },
           "zerolinecolor": "white",
           "zerolinewidth": 2
          }
         }
        },
        "xaxis": {
         "anchor": "y",
         "domain": [
          0,
          1
         ],
         "title": {
          "text": "age"
         }
        },
        "yaxis": {
         "anchor": "x",
         "domain": [
          0,
          1
         ],
         "title": {
          "text": "weight"
         }
        }
       }
      }
     },
     "metadata": {},
     "output_type": "display_data"
    }
   ],
   "source": [
    "# Insert code here\n",
    "# ...\n",
    "\n",
    "df_age = df_census.groupby([\"age\", \"csp\"])[\"weight\"].sum().reset_index()\n",
    "df_age = df_age[df_age[\"csp\"].isin([1, 3, 5])]\n",
    "df_age[\"csp\"] = df_age[\"csp\"].astype(str)\n",
    "\n",
    "px.bar(df_age, x = \"age\", y = \"weight\", color = \"csp\", barmode = \"group\")"
   ]
  },
  {
   "cell_type": "markdown",
   "id": "d963d9da-1c9b-4d8a-b621-9d6f724e4225",
   "metadata": {},
   "source": [
    "The previous analysis were performed in absolute terms. Let's pass on to a relative analysis. We want to know which percentage of people belonging to a certain CSP has a certain age. So the bars should sum up to one per CSP.\n",
    "\n",
    "**Task:** Set up a plot where two or three CSP are shown with their relative age distribution, summing up to one for each CSP.\n",
    "\n",
    "Hints:\n",
    "- Proceed as in the previous task, but perform a second aggregation by CSP.\n",
    "- Via `merge`, append another column to the two-variable data set that describes this total\n",
    "- Then, divide the absolute value by the group total"
   ]
  },
  {
   "cell_type": "code",
   "execution_count": 13,
   "id": "fe964b58-9ec9-4a52-9523-49e62246c702",
   "metadata": {},
   "outputs": [
    {
     "name": "stderr",
     "output_type": "stream",
     "text": [
      "c:\\Apps space\\conda\\envs\\simu-cour\\Lib\\site-packages\\plotly\\express\\_core.py:2065: FutureWarning:\n",
      "\n",
      "When grouping with a length-1 list-like, you will need to pass a length-1 tuple to get_group in a future version of pandas. Pass `(name,)` instead of `name` to silence this warning.\n",
      "\n"
     ]
    },
    {
     "data": {
      "application/vnd.plotly.v1+json": {
       "config": {
        "plotlyServerURL": "https://plot.ly"
       },
       "data": [
        {
         "alignmentgroup": "True",
         "hovertemplate": "csp=3<br>age=%{x}<br>share=%{y}<extra></extra>",
         "legendgroup": "3",
         "marker": {
          "color": "#636efa",
          "pattern": {
           "shape": ""
          }
         },
         "name": "3",
         "offsetgroup": "3",
         "orientation": "v",
         "showlegend": true,
         "textposition": "auto",
         "type": "bar",
         "x": [
          14,
          15,
          16,
          17,
          18,
          19,
          20,
          21,
          22,
          23,
          24,
          25,
          26,
          27,
          28,
          29,
          30,
          31,
          32,
          33,
          34,
          35,
          36,
          37,
          38,
          39,
          40,
          41,
          42,
          43,
          44,
          45,
          46,
          47,
          48,
          49,
          50,
          51,
          52,
          53,
          54,
          55,
          56,
          57,
          58,
          59,
          60,
          61,
          62,
          63,
          64,
          65,
          66,
          67,
          68,
          69,
          70,
          71,
          72,
          73,
          74,
          75,
          76,
          77,
          78,
          79,
          80,
          81,
          82,
          83,
          84,
          85,
          86,
          87,
          88,
          89,
          90,
          91,
          92,
          93,
          94,
          95,
          96,
          97,
          98,
          99,
          100,
          101,
          102,
          103,
          104,
          105,
          106,
          107,
          108,
          110,
          111,
          112,
          113,
          114,
          115,
          116,
          117
         ],
         "xaxis": "x",
         "y": [
          5.455985693540759e-7,
          0.000011120165667307713,
          0.000026300590360807016,
          0.00003543666462675149,
          0.000052296675486897186,
          0.00020911672172696015,
          0.00045235499251270085,
          0.0016371441578578918,
          0.0028441078128240726,
          0.005015303899125681,
          0.00911740915828225,
          0.013462625638109451,
          0.017973896210414016,
          0.02017526446447881,
          0.02162546340607828,
          0.02277208870388526,
          0.0231072672759724,
          0.02402187004775031,
          0.024208271459782396,
          0.024899745357548526,
          0.02542331235586257,
          0.025587252902815515,
          0.026525836258323224,
          0.026710571390015737,
          0.027598054448628957,
          0.02770444938795448,
          0.027949700748302213,
          0.027690871084577445,
          0.0279529022939886,
          0.02807512922862625,
          0.028713579155284018,
          0.02939269721310801,
          0.029663334312744514,
          0.0291312235085914,
          0.028567638216896393,
          0.02773996177769504,
          0.027088051996447378,
          0.026299312149480364,
          0.02593063508452324,
          0.025950788548626195,
          0.025242172563204872,
          0.025073954062376915,
          0.024240280800439367,
          0.02332685870921037,
          0.022623088897810055,
          0.021627872762978465,
          0.020320448794935216,
          0.017255217158999907,
          0.014656355094931182,
          0.010366205428371512,
          0.008037117255495357,
          0.00623090192305219,
          0.004041698973215755,
          0.0028654898185696163,
          0.0023445373352227535,
          0.001989425180032633,
          0.0016382347123524241,
          0.001226222158287956,
          0.001035101927731856,
          0.0008117483997564824,
          0.0006573762284199341,
          0.0005058163915622478,
          0.0003830280963176387,
          0.0003279011410583249,
          0.00027532157059232553,
          0.0002255958417699979,
          0.00020575672587811545,
          0.00017378912064813744,
          0.0001569768884264575,
          0.00010491499695607701,
          0.00011202140567346104,
          0.00010065923818376797,
          0.00008702129456998772,
          0.00006137402248839618,
          0.00007152278418513036,
          0.00004970181142361758,
          0.00004180335211311557,
          0.000019151280868155597,
          0.00002283406753810516,
          0.00002794787141770642,
          0.000023762392562480854,
          0.000010512774843430322,
          0.00001443584430380479,
          0.000005905007433259306,
          0.000004579727705531101,
          0.000007377717157929296,
          6.079281818300648e-7,
          0.0000018176997810585485,
          5.883350530837228e-7,
          9.912339490656672e-7,
          0.000002345395992018232,
          0.0000012935892070500735,
          5.686848092806199e-7,
          2.0944920669855235e-7,
          1.8076157091294772e-7,
          0.0000010211700351759477,
          0.0000027839610009009715,
          0.0000012705596399512722,
          0.0000024679291118873275,
          0.000001302803855522735,
          0.000002033409151389985,
          0.000004935826052159017,
          0.0000026306487783100106
         ],
         "yaxis": "y"
        },
        {
         "alignmentgroup": "True",
         "hovertemplate": "csp=5<br>age=%{x}<br>share=%{y}<extra></extra>",
         "legendgroup": "5",
         "marker": {
          "color": "#EF553B",
          "pattern": {
           "shape": ""
          }
         },
         "name": "5",
         "offsetgroup": "5",
         "orientation": "v",
         "showlegend": true,
         "textposition": "auto",
         "type": "bar",
         "x": [
          14,
          15,
          16,
          17,
          18,
          19,
          20,
          21,
          22,
          23,
          24,
          25,
          26,
          27,
          28,
          29,
          30,
          31,
          32,
          33,
          34,
          35,
          36,
          37,
          38,
          39,
          40,
          41,
          42,
          43,
          44,
          45,
          46,
          47,
          48,
          49,
          50,
          51,
          52,
          53,
          54,
          55,
          56,
          57,
          58,
          59,
          60,
          61,
          62,
          63,
          64,
          65,
          66,
          67,
          68,
          69,
          70,
          71,
          72,
          73,
          74,
          75,
          76,
          77,
          78,
          79,
          80,
          81,
          82,
          83,
          84,
          85,
          86,
          87,
          88,
          89,
          90,
          91,
          92,
          93,
          94,
          95,
          96,
          97,
          98,
          99,
          100,
          101,
          102,
          103,
          104,
          105,
          106,
          107,
          109,
          110,
          111,
          112,
          113,
          114,
          115,
          116,
          117
         ],
         "xaxis": "x",
         "y": [
          0.000015523212714073112,
          0.00028630987584277694,
          0.000872423438799344,
          0.0018361624139138703,
          0.00277512589537611,
          0.007841052893686569,
          0.012996193574059114,
          0.017232366446336,
          0.019744413155289412,
          0.021027877075772528,
          0.02199910520996822,
          0.022207064046077533,
          0.022320102038362804,
          0.02267238045294417,
          0.022687739605208243,
          0.022984212349425034,
          0.02289050848793276,
          0.022766769683697185,
          0.022706725779491486,
          0.022299851244730957,
          0.022790981298239903,
          0.022851850810028468,
          0.02270252388158656,
          0.02275497445379071,
          0.02291663535275153,
          0.022452608412455013,
          0.02196275558307697,
          0.02178652759660912,
          0.02227371648425006,
          0.02301907311457802,
          0.023920544533662155,
          0.024793401361646754,
          0.025311535277584667,
          0.02538250169386012,
          0.025577805563242944,
          0.025066106156769397,
          0.025380907058052453,
          0.02538633440856891,
          0.02547757534928378,
          0.02534425842951685,
          0.02498841702075262,
          0.024701790509834138,
          0.023973197242079716,
          0.023410270014625208,
          0.022073064585021108,
          0.021182920749585,
          0.01958582770674556,
          0.015260754066593349,
          0.01197028244564868,
          0.006451514873218136,
          0.005056983413207097,
          0.003894175504681498,
          0.0023716386078717114,
          0.001356164397276715,
          0.0010550821054938317,
          0.0008970977265783943,
          0.0007391422088816222,
          0.0005638414128868426,
          0.0003532405321082586,
          0.000307241924750821,
          0.0002710635444718541,
          0.000233701346495148,
          0.0001956403715178829,
          0.0001592067361137831,
          0.00016661217931729065,
          0.00014248484227344385,
          0.00013485017994923083,
          0.0001382642670919052,
          0.00013933003222022048,
          0.00010622656485101467,
          0.00010651298705821502,
          0.00011113606951706542,
          0.00010221837120084669,
          0.00008060249556633146,
          0.00007021149725306568,
          0.00006999834822138184,
          0.00004155285063969621,
          0.00004007137714543008,
          0.00003605289901120787,
          0.00003471300387848895,
          0.000027198264546836893,
          0.000018766688145945083,
          0.000016201125134389456,
          0.00001009027876811553,
          0.000006834029064079147,
          0.000005763234057256727,
          0.00000567921007901612,
          0.0000028901444680369747,
          5.662094981061828e-7,
          0.0000032403230955779333,
          0.0000010814137719132119,
          0.0000011258866200405227,
          8.102139165910513e-7,
          5.850838613983984e-7,
          0.0000010957249966214388,
          0.0000020983629354545793,
          0.000001138375926182658,
          1.190954671024844e-7,
          4.781710315483588e-7,
          4.259268111666191e-7,
          9.427871650138703e-7,
          0.0000025771148993410284,
          0.000002671624923860879
         ],
         "yaxis": "y"
        },
        {
         "alignmentgroup": "True",
         "hovertemplate": "csp=1<br>age=%{x}<br>share=%{y}<extra></extra>",
         "legendgroup": "1",
         "marker": {
          "color": "#00cc96",
          "pattern": {
           "shape": ""
          }
         },
         "name": "1",
         "offsetgroup": "1",
         "orientation": "v",
         "showlegend": true,
         "textposition": "auto",
         "type": "bar",
         "x": [
          15,
          16,
          17,
          18,
          19,
          20,
          21,
          22,
          23,
          24,
          25,
          26,
          27,
          28,
          29,
          30,
          31,
          32,
          33,
          34,
          35,
          36,
          37,
          38,
          39,
          40,
          41,
          42,
          43,
          44,
          45,
          46,
          47,
          48,
          49,
          50,
          51,
          52,
          53,
          54,
          55,
          56,
          57,
          58,
          59,
          60,
          61,
          62,
          63,
          64,
          65,
          66,
          67,
          68,
          69,
          70,
          71,
          72,
          73,
          74,
          75,
          76,
          77,
          78,
          79,
          80,
          81,
          82,
          83,
          84,
          85,
          86,
          87,
          88,
          89,
          90,
          91,
          92,
          93,
          94,
          95,
          96,
          97,
          98,
          99,
          107,
          112
         ],
         "xaxis": "x",
         "y": [
          0.00007553015892666114,
          0.00014062489359774327,
          0.0002215844433945324,
          0.00042386693790581287,
          0.0008524749801103252,
          0.0015378527502857553,
          0.0024375311144133405,
          0.0029795959640906743,
          0.004187779522045731,
          0.00485209702020645,
          0.005913055831001874,
          0.006991888960259682,
          0.007903237062705588,
          0.009008254370395787,
          0.010523666956174642,
          0.011361176875951314,
          0.013128978916484738,
          0.014250727099368891,
          0.014909944547350779,
          0.015843639043013908,
          0.015883401054128696,
          0.01682724918269066,
          0.017381107592585057,
          0.018155574484180065,
          0.018548488855690097,
          0.019539397621322598,
          0.019135201465553284,
          0.019799311224371237,
          0.020789967090361836,
          0.022216767296522156,
          0.023750565512383727,
          0.025236090907312648,
          0.02722318677888212,
          0.02876046424474703,
          0.028600908564809405,
          0.030134798330297374,
          0.03177567724023918,
          0.03456204056469622,
          0.036188585470050376,
          0.037606272371417726,
          0.03878425347861569,
          0.039910526226068846,
          0.03925669397437741,
          0.03939347341880067,
          0.03969075500059906,
          0.03813871424040032,
          0.029676678112237523,
          0.02412517228746571,
          0.015913482829985563,
          0.013022904972277224,
          0.010360250404339353,
          0.00880001669901861,
          0.00727884544949478,
          0.005916984379049421,
          0.005223361501850422,
          0.004385981657523063,
          0.003231528730947877,
          0.0023026677856207846,
          0.0018993349035462445,
          0.0015695132524947953,
          0.001282122210219314,
          0.0011249963916587348,
          0.0008955174538729441,
          0.0008573265958947086,
          0.0006329877770685127,
          0.000835598254797679,
          0.0007106355136646132,
          0.0006681066740778362,
          0.0006839308224696639,
          0.0006581640653540632,
          0.0005479468388695356,
          0.0005159457059491819,
          0.0005619224492774935,
          0.00040867627890515024,
          0.00023262717232992594,
          0.00019718865874523387,
          0.0001776204455898629,
          0.00013197117156965322,
          0.00007186821450461472,
          0.00007438822067628107,
          0.000054761329224269814,
          0.000035716607061215656,
          0.00003553874584660099,
          0.000011792349637425584,
          0.00003595122549210113,
          0.000014296751465987342,
          0.0000026994711383266784
         ],
         "yaxis": "y"
        }
       ],
       "layout": {
        "barmode": "group",
        "legend": {
         "title": {
          "text": "csp"
         },
         "tracegroupgap": 0
        },
        "margin": {
         "t": 60
        },
        "template": {
         "data": {
          "bar": [
           {
            "error_x": {
             "color": "#2a3f5f"
            },
            "error_y": {
             "color": "#2a3f5f"
            },
            "marker": {
             "line": {
              "color": "#E5ECF6",
              "width": 0.5
             },
             "pattern": {
              "fillmode": "overlay",
              "size": 10,
              "solidity": 0.2
             }
            },
            "type": "bar"
           }
          ],
          "barpolar": [
           {
            "marker": {
             "line": {
              "color": "#E5ECF6",
              "width": 0.5
             },
             "pattern": {
              "fillmode": "overlay",
              "size": 10,
              "solidity": 0.2
             }
            },
            "type": "barpolar"
           }
          ],
          "carpet": [
           {
            "aaxis": {
             "endlinecolor": "#2a3f5f",
             "gridcolor": "white",
             "linecolor": "white",
             "minorgridcolor": "white",
             "startlinecolor": "#2a3f5f"
            },
            "baxis": {
             "endlinecolor": "#2a3f5f",
             "gridcolor": "white",
             "linecolor": "white",
             "minorgridcolor": "white",
             "startlinecolor": "#2a3f5f"
            },
            "type": "carpet"
           }
          ],
          "choropleth": [
           {
            "colorbar": {
             "outlinewidth": 0,
             "ticks": ""
            },
            "type": "choropleth"
           }
          ],
          "contour": [
           {
            "colorbar": {
             "outlinewidth": 0,
             "ticks": ""
            },
            "colorscale": [
             [
              0,
              "#0d0887"
             ],
             [
              0.1111111111111111,
              "#46039f"
             ],
             [
              0.2222222222222222,
              "#7201a8"
             ],
             [
              0.3333333333333333,
              "#9c179e"
             ],
             [
              0.4444444444444444,
              "#bd3786"
             ],
             [
              0.5555555555555556,
              "#d8576b"
             ],
             [
              0.6666666666666666,
              "#ed7953"
             ],
             [
              0.7777777777777778,
              "#fb9f3a"
             ],
             [
              0.8888888888888888,
              "#fdca26"
             ],
             [
              1,
              "#f0f921"
             ]
            ],
            "type": "contour"
           }
          ],
          "contourcarpet": [
           {
            "colorbar": {
             "outlinewidth": 0,
             "ticks": ""
            },
            "type": "contourcarpet"
           }
          ],
          "heatmap": [
           {
            "colorbar": {
             "outlinewidth": 0,
             "ticks": ""
            },
            "colorscale": [
             [
              0,
              "#0d0887"
             ],
             [
              0.1111111111111111,
              "#46039f"
             ],
             [
              0.2222222222222222,
              "#7201a8"
             ],
             [
              0.3333333333333333,
              "#9c179e"
             ],
             [
              0.4444444444444444,
              "#bd3786"
             ],
             [
              0.5555555555555556,
              "#d8576b"
             ],
             [
              0.6666666666666666,
              "#ed7953"
             ],
             [
              0.7777777777777778,
              "#fb9f3a"
             ],
             [
              0.8888888888888888,
              "#fdca26"
             ],
             [
              1,
              "#f0f921"
             ]
            ],
            "type": "heatmap"
           }
          ],
          "heatmapgl": [
           {
            "colorbar": {
             "outlinewidth": 0,
             "ticks": ""
            },
            "colorscale": [
             [
              0,
              "#0d0887"
             ],
             [
              0.1111111111111111,
              "#46039f"
             ],
             [
              0.2222222222222222,
              "#7201a8"
             ],
             [
              0.3333333333333333,
              "#9c179e"
             ],
             [
              0.4444444444444444,
              "#bd3786"
             ],
             [
              0.5555555555555556,
              "#d8576b"
             ],
             [
              0.6666666666666666,
              "#ed7953"
             ],
             [
              0.7777777777777778,
              "#fb9f3a"
             ],
             [
              0.8888888888888888,
              "#fdca26"
             ],
             [
              1,
              "#f0f921"
             ]
            ],
            "type": "heatmapgl"
           }
          ],
          "histogram": [
           {
            "marker": {
             "pattern": {
              "fillmode": "overlay",
              "size": 10,
              "solidity": 0.2
             }
            },
            "type": "histogram"
           }
          ],
          "histogram2d": [
           {
            "colorbar": {
             "outlinewidth": 0,
             "ticks": ""
            },
            "colorscale": [
             [
              0,
              "#0d0887"
             ],
             [
              0.1111111111111111,
              "#46039f"
             ],
             [
              0.2222222222222222,
              "#7201a8"
             ],
             [
              0.3333333333333333,
              "#9c179e"
             ],
             [
              0.4444444444444444,
              "#bd3786"
             ],
             [
              0.5555555555555556,
              "#d8576b"
             ],
             [
              0.6666666666666666,
              "#ed7953"
             ],
             [
              0.7777777777777778,
              "#fb9f3a"
             ],
             [
              0.8888888888888888,
              "#fdca26"
             ],
             [
              1,
              "#f0f921"
             ]
            ],
            "type": "histogram2d"
           }
          ],
          "histogram2dcontour": [
           {
            "colorbar": {
             "outlinewidth": 0,
             "ticks": ""
            },
            "colorscale": [
             [
              0,
              "#0d0887"
             ],
             [
              0.1111111111111111,
              "#46039f"
             ],
             [
              0.2222222222222222,
              "#7201a8"
             ],
             [
              0.3333333333333333,
              "#9c179e"
             ],
             [
              0.4444444444444444,
              "#bd3786"
             ],
             [
              0.5555555555555556,
              "#d8576b"
             ],
             [
              0.6666666666666666,
              "#ed7953"
             ],
             [
              0.7777777777777778,
              "#fb9f3a"
             ],
             [
              0.8888888888888888,
              "#fdca26"
             ],
             [
              1,
              "#f0f921"
             ]
            ],
            "type": "histogram2dcontour"
           }
          ],
          "mesh3d": [
           {
            "colorbar": {
             "outlinewidth": 0,
             "ticks": ""
            },
            "type": "mesh3d"
           }
          ],
          "parcoords": [
           {
            "line": {
             "colorbar": {
              "outlinewidth": 0,
              "ticks": ""
             }
            },
            "type": "parcoords"
           }
          ],
          "pie": [
           {
            "automargin": true,
            "type": "pie"
           }
          ],
          "scatter": [
           {
            "fillpattern": {
             "fillmode": "overlay",
             "size": 10,
             "solidity": 0.2
            },
            "type": "scatter"
           }
          ],
          "scatter3d": [
           {
            "line": {
             "colorbar": {
              "outlinewidth": 0,
              "ticks": ""
             }
            },
            "marker": {
             "colorbar": {
              "outlinewidth": 0,
              "ticks": ""
             }
            },
            "type": "scatter3d"
           }
          ],
          "scattercarpet": [
           {
            "marker": {
             "colorbar": {
              "outlinewidth": 0,
              "ticks": ""
             }
            },
            "type": "scattercarpet"
           }
          ],
          "scattergeo": [
           {
            "marker": {
             "colorbar": {
              "outlinewidth": 0,
              "ticks": ""
             }
            },
            "type": "scattergeo"
           }
          ],
          "scattergl": [
           {
            "marker": {
             "colorbar": {
              "outlinewidth": 0,
              "ticks": ""
             }
            },
            "type": "scattergl"
           }
          ],
          "scattermapbox": [
           {
            "marker": {
             "colorbar": {
              "outlinewidth": 0,
              "ticks": ""
             }
            },
            "type": "scattermapbox"
           }
          ],
          "scatterpolar": [
           {
            "marker": {
             "colorbar": {
              "outlinewidth": 0,
              "ticks": ""
             }
            },
            "type": "scatterpolar"
           }
          ],
          "scatterpolargl": [
           {
            "marker": {
             "colorbar": {
              "outlinewidth": 0,
              "ticks": ""
             }
            },
            "type": "scatterpolargl"
           }
          ],
          "scatterternary": [
           {
            "marker": {
             "colorbar": {
              "outlinewidth": 0,
              "ticks": ""
             }
            },
            "type": "scatterternary"
           }
          ],
          "surface": [
           {
            "colorbar": {
             "outlinewidth": 0,
             "ticks": ""
            },
            "colorscale": [
             [
              0,
              "#0d0887"
             ],
             [
              0.1111111111111111,
              "#46039f"
             ],
             [
              0.2222222222222222,
              "#7201a8"
             ],
             [
              0.3333333333333333,
              "#9c179e"
             ],
             [
              0.4444444444444444,
              "#bd3786"
             ],
             [
              0.5555555555555556,
              "#d8576b"
             ],
             [
              0.6666666666666666,
              "#ed7953"
             ],
             [
              0.7777777777777778,
              "#fb9f3a"
             ],
             [
              0.8888888888888888,
              "#fdca26"
             ],
             [
              1,
              "#f0f921"
             ]
            ],
            "type": "surface"
           }
          ],
          "table": [
           {
            "cells": {
             "fill": {
              "color": "#EBF0F8"
             },
             "line": {
              "color": "white"
             }
            },
            "header": {
             "fill": {
              "color": "#C8D4E3"
             },
             "line": {
              "color": "white"
             }
            },
            "type": "table"
           }
          ]
         },
         "layout": {
          "annotationdefaults": {
           "arrowcolor": "#2a3f5f",
           "arrowhead": 0,
           "arrowwidth": 1
          },
          "autotypenumbers": "strict",
          "coloraxis": {
           "colorbar": {
            "outlinewidth": 0,
            "ticks": ""
           }
          },
          "colorscale": {
           "diverging": [
            [
             0,
             "#8e0152"
            ],
            [
             0.1,
             "#c51b7d"
            ],
            [
             0.2,
             "#de77ae"
            ],
            [
             0.3,
             "#f1b6da"
            ],
            [
             0.4,
             "#fde0ef"
            ],
            [
             0.5,
             "#f7f7f7"
            ],
            [
             0.6,
             "#e6f5d0"
            ],
            [
             0.7,
             "#b8e186"
            ],
            [
             0.8,
             "#7fbc41"
            ],
            [
             0.9,
             "#4d9221"
            ],
            [
             1,
             "#276419"
            ]
           ],
           "sequential": [
            [
             0,
             "#0d0887"
            ],
            [
             0.1111111111111111,
             "#46039f"
            ],
            [
             0.2222222222222222,
             "#7201a8"
            ],
            [
             0.3333333333333333,
             "#9c179e"
            ],
            [
             0.4444444444444444,
             "#bd3786"
            ],
            [
             0.5555555555555556,
             "#d8576b"
            ],
            [
             0.6666666666666666,
             "#ed7953"
            ],
            [
             0.7777777777777778,
             "#fb9f3a"
            ],
            [
             0.8888888888888888,
             "#fdca26"
            ],
            [
             1,
             "#f0f921"
            ]
           ],
           "sequentialminus": [
            [
             0,
             "#0d0887"
            ],
            [
             0.1111111111111111,
             "#46039f"
            ],
            [
             0.2222222222222222,
             "#7201a8"
            ],
            [
             0.3333333333333333,
             "#9c179e"
            ],
            [
             0.4444444444444444,
             "#bd3786"
            ],
            [
             0.5555555555555556,
             "#d8576b"
            ],
            [
             0.6666666666666666,
             "#ed7953"
            ],
            [
             0.7777777777777778,
             "#fb9f3a"
            ],
            [
             0.8888888888888888,
             "#fdca26"
            ],
            [
             1,
             "#f0f921"
            ]
           ]
          },
          "colorway": [
           "#636efa",
           "#EF553B",
           "#00cc96",
           "#ab63fa",
           "#FFA15A",
           "#19d3f3",
           "#FF6692",
           "#B6E880",
           "#FF97FF",
           "#FECB52"
          ],
          "font": {
           "color": "#2a3f5f"
          },
          "geo": {
           "bgcolor": "white",
           "lakecolor": "white",
           "landcolor": "#E5ECF6",
           "showlakes": true,
           "showland": true,
           "subunitcolor": "white"
          },
          "hoverlabel": {
           "align": "left"
          },
          "hovermode": "closest",
          "mapbox": {
           "style": "light"
          },
          "paper_bgcolor": "white",
          "plot_bgcolor": "#E5ECF6",
          "polar": {
           "angularaxis": {
            "gridcolor": "white",
            "linecolor": "white",
            "ticks": ""
           },
           "bgcolor": "#E5ECF6",
           "radialaxis": {
            "gridcolor": "white",
            "linecolor": "white",
            "ticks": ""
           }
          },
          "scene": {
           "xaxis": {
            "backgroundcolor": "#E5ECF6",
            "gridcolor": "white",
            "gridwidth": 2,
            "linecolor": "white",
            "showbackground": true,
            "ticks": "",
            "zerolinecolor": "white"
           },
           "yaxis": {
            "backgroundcolor": "#E5ECF6",
            "gridcolor": "white",
            "gridwidth": 2,
            "linecolor": "white",
            "showbackground": true,
            "ticks": "",
            "zerolinecolor": "white"
           },
           "zaxis": {
            "backgroundcolor": "#E5ECF6",
            "gridcolor": "white",
            "gridwidth": 2,
            "linecolor": "white",
            "showbackground": true,
            "ticks": "",
            "zerolinecolor": "white"
           }
          },
          "shapedefaults": {
           "line": {
            "color": "#2a3f5f"
           }
          },
          "ternary": {
           "aaxis": {
            "gridcolor": "white",
            "linecolor": "white",
            "ticks": ""
           },
           "baxis": {
            "gridcolor": "white",
            "linecolor": "white",
            "ticks": ""
           },
           "bgcolor": "#E5ECF6",
           "caxis": {
            "gridcolor": "white",
            "linecolor": "white",
            "ticks": ""
           }
          },
          "title": {
           "x": 0.05
          },
          "xaxis": {
           "automargin": true,
           "gridcolor": "white",
           "linecolor": "white",
           "ticks": "",
           "title": {
            "standoff": 15
           },
           "zerolinecolor": "white",
           "zerolinewidth": 2
          },
          "yaxis": {
           "automargin": true,
           "gridcolor": "white",
           "linecolor": "white",
           "ticks": "",
           "title": {
            "standoff": 15
           },
           "zerolinecolor": "white",
           "zerolinewidth": 2
          }
         }
        },
        "xaxis": {
         "anchor": "y",
         "domain": [
          0,
          1
         ],
         "title": {
          "text": "age"
         }
        },
        "yaxis": {
         "anchor": "x",
         "domain": [
          0,
          1
         ],
         "title": {
          "text": "share"
         }
        }
       }
      }
     },
     "metadata": {},
     "output_type": "display_data"
    }
   ],
   "source": [
    "# Insert code here\n",
    "# ...\n",
    "\n",
    "df_age = df_census.groupby([\"age\", \"csp\"])[\"weight\"].sum().reset_index()\n",
    "df_total = df_census.groupby(\"csp\")[\"weight\"].sum().reset_index().rename(columns = { \"weight\": \"total\" })\n",
    "\n",
    "df_age = pd.merge(df_age, df_total, on = \"csp\")\n",
    "df_age[\"share\"] = df_age[\"weight\"] / df_age[\"total\"]\n",
    "\n",
    "df_age = df_age[df_age[\"csp\"].isin([1, 3, 5])]\n",
    "df_age[\"csp\"] = df_age[\"csp\"].astype(str)\n",
    "\n",
    "px.bar(df_age, x = \"age\", y = \"share\", color = \"csp\", barmode = \"group\")"
   ]
  },
  {
   "cell_type": "markdown",
   "id": "81721615-c8f2-4b0f-b6ce-2ad80370ce2d",
   "metadata": {},
   "source": [
    "## Spatial data"
   ]
  },
  {
   "cell_type": "markdown",
   "id": "cc12eb55-3e09-498a-9b03-5a981a026f7e",
   "metadata": {},
   "source": [
    "So far, we have only performed analysis over the whole French population. The data set contains a column called `IRIS`. This is a statistical zoning system that covers France. Each zone in that system has a unique identifier. It is constructed as follows:\n",
    "\n",
    "- `[2]` digits are the department identifier\n",
    "- `[3]` following digits describe the municipality\n",
    "- `[4]` following digits describe the IRIS (sub-municipality zoning)\n",
    "\n",
    "For instance, the 14e arrondissement in Paris has the `75` as the department identifier `75`, followed by `114` indicating the arrondissement. After, there are four digits that describe smaller zones within the arrondissement, for instance:\n",
    "\n",
    "`[75][115][0001]`"
   ]
  },
  {
   "cell_type": "markdown",
   "id": "46a11219-cbc4-4785-8a99-7fe808f42d46",
   "metadata": {},
   "source": [
    "**Task:** For convience, let's create additional columns that indicate the department and the municipality of an observation:\n",
    "- `department_id`: The first two digits of `iris_id`\n",
    "- `municipality_id`: The five first digits of `iris_id`"
   ]
  },
  {
   "cell_type": "code",
   "execution_count": null,
   "id": "5f540510-c06d-4d70-99de-e85855a934de",
   "metadata": {},
   "outputs": [],
   "source": [
    "### Insert code here\n",
    "# ...\n",
    "\n",
    "df_census[\"department_id\"] = df_census[\"iris_id\"].str[:2]\n",
    "df_census[\"municipality_id\"] = df_census[\"iris_id\"].str[:5]"
   ]
  },
  {
   "cell_type": "markdown",
   "id": "4e197496-c6d1-4c5a-bcba-2ceb02593d5b",
   "metadata": {},
   "source": [
    "**Task:** Find out which are the 10 departments with the highest number of inhabitants. Which are the 10 least inhabitated ones?"
   ]
  },
  {
   "cell_type": "code",
   "execution_count": null,
   "id": "3fd6655e-3b45-4879-bd51-a1ef089558e5",
   "metadata": {},
   "outputs": [],
   "source": [
    "### Insert code here\n",
    "# ...\n",
    "\n",
    "df_census.groupby(\"department_id\")[\"weight\"].sum().reset_index().sort_values(by = \"weight\", ascending = True)"
   ]
  },
  {
   "cell_type": "markdown",
   "id": "865d9b34-9637-4cfd-8481-159ca6b9818c",
   "metadata": {},
   "source": [
    "Do you observe anything special?"
   ]
  },
  {
   "cell_type": "markdown",
   "id": "11327c69-4d53-4f1c-a16a-1c69a1b075e3",
   "metadata": {},
   "source": [
    "**Task:** Let's repeat the exercise by identifying the top 10 and bottom 10 municipalities:"
   ]
  },
  {
   "cell_type": "code",
   "execution_count": null,
   "id": "2a157f5f-417a-4668-9f0d-e6ff6763e35e",
   "metadata": {},
   "outputs": [],
   "source": [
    "### Insert code here\n",
    "# ...\n",
    "\n",
    "df_census.groupby(\"municipality_id\")[\"weight\"].sum().reset_index().sort_values(by = \"weight\", ascending = False)"
   ]
  },
  {
   "cell_type": "markdown",
   "id": "44f7d195-7731-41fa-8e18-b29b6d987fda",
   "metadata": {},
   "source": [
    "## Mapping"
   ]
  },
  {
   "cell_type": "markdown",
   "id": "b44efc18-4f82-4503-9ef3-d1cf3b255360",
   "metadata": {},
   "source": [
    "Looking at spatial data works best when using maps. The IRIS system is not only a system of identifiers, but there is also geographic shape data attached to it. The data is provided by IGN (Institut Géographique National).\n",
    "\n",
    "- Download the data from https://geoservices.ign.fr/contoursiris\n",
    "- Make sure to download the 2021 edition which is compatible with our 2019 census data\n",
    "- Unpack the 7z file in the current folder\n",
    "- The relevant files are located in `CONTOURS*/1_DONNES/*LAMB93*/` (make sure about the last `LAMB93` part)\n",
    "- Copy the files prefixed with `CONTOURS-IRIS.*` to the folder where this notebook is located"
   ]
  },
  {
   "cell_type": "markdown",
   "id": "5304b90f-3c21-4acd-a7e9-991b94f4f5ef",
   "metadata": {},
   "source": [
    "Let's load the data using `geopandas`:"
   ]
  },
  {
   "cell_type": "code",
   "execution_count": null,
   "id": "fd4deaf7-6ec9-4995-ab92-b0f29078fa92",
   "metadata": {},
   "outputs": [],
   "source": [
    "df_iris = gpd.read_file(\"CONTOURS-IRIS.shp\")\n",
    "df_iris.head()"
   ]
  },
  {
   "cell_type": "markdown",
   "id": "9f666670-0849-4c1e-977e-4f99a09c8f1b",
   "metadata": {},
   "source": [
    "As before, let's clean up the data set. We will need the following columns with the following readable names:\n",
    "- `INSEE_COM`: `municipality_id`\n",
    "- `CODE_IRIS`: `iris_id`\n",
    "- `geometry`\n",
    "\n",
    "**Task:** Set up the data set accordingly."
   ]
  },
  {
   "cell_type": "code",
   "execution_count": null,
   "id": "2eedd72d-5903-4a1d-803e-c6477e02ef37",
   "metadata": {},
   "outputs": [],
   "source": [
    "### Insert code here\n",
    "# ...\n",
    "\n",
    "df_iris = df_iris[[\"INSEE_COM\", \"CODE_IRIS\", \"geometry\"]].rename(columns = {\n",
    "    \"INSEE_COM\": \"municipality_id\", \"CODE_IRIS\": \"iris_id\"\n",
    "})"
   ]
  },
  {
   "cell_type": "markdown",
   "id": "93de557d-ffef-4aa7-b01c-a3283973fa27",
   "metadata": {},
   "source": [
    "**Task**: Calculate how many IRIS exist in France and how many municipalities are there:"
   ]
  },
  {
   "cell_type": "code",
   "execution_count": null,
   "id": "8858788d-2406-4060-afa4-9087b13f8b84",
   "metadata": {},
   "outputs": [],
   "source": [
    "len(df_iris[\"municipality_id\"].unique()), len(df_iris[\"iris_id\"].unique())"
   ]
  },
  {
   "cell_type": "markdown",
   "id": "94a3e575-e77f-483e-8207-5418c2d7b68c",
   "metadata": {},
   "source": [
    "You can try plotting all IRIS or all municipalities, but this will usually take a while with the standard Python tools. Let's plot only Paris:"
   ]
  },
  {
   "cell_type": "code",
   "execution_count": null,
   "id": "5f7a5c36-faf3-49db-ab32-5d35ba0b705b",
   "metadata": {},
   "outputs": [],
   "source": [
    "df_iris[df_iris[\"municipality_id\"].str.startswith(\"75\")].plot()"
   ]
  },
  {
   "cell_type": "markdown",
   "id": "ab81d6b3-ac5f-45e1-ad5d-2ae165f33468",
   "metadata": {},
   "source": [
    "**Task**: Only the spatial shapes are not really useful. We should attach some data to it. To simplify our life, let's create a data frame based on `df_iris` that only contains the municipality shapes `df_municipalities`.\n",
    "\n",
    "Hint: Check the `dissolve` method in `geopandas`."
   ]
  },
  {
   "cell_type": "code",
   "execution_count": null,
   "id": "c18e63d1-3554-49a7-9343-3770690c81e1",
   "metadata": {},
   "outputs": [],
   "source": [
    "### Insert code here\n",
    "# ...\n",
    "\n",
    "# df_municipalities = \n",
    "\n",
    "df_municipalities = df_iris.dissolve(\"municipality_id\").reset_index()"
   ]
  },
  {
   "cell_type": "markdown",
   "id": "edb44b04-4eed-4d98-822f-a684d7ca3d8f",
   "metadata": {},
   "source": [
    "**Task**: Plot all municipalities in the Essonne departmennt (91)."
   ]
  },
  {
   "cell_type": "code",
   "execution_count": null,
   "id": "1149cec8-2d8d-4483-bbef-4b46344147f2",
   "metadata": {},
   "outputs": [],
   "source": [
    "### Insert code here\n",
    "# ...\n",
    "\n",
    "df_municipalities[df_municipalities[\"municipality_id\"].str.startswith(\"91\")].plot()"
   ]
  },
  {
   "cell_type": "markdown",
   "id": "9a47ef5d-a2a5-44bd-b350-0d8aad4d9c09",
   "metadata": {},
   "source": [
    "The following list contains all departments in the Île-de-France region:"
   ]
  },
  {
   "cell_type": "code",
   "execution_count": null,
   "id": "76f18e40-40b6-4658-8b07-a676962ba883",
   "metadata": {},
   "outputs": [],
   "source": [
    "idf_departments = [\"75\", \"92\", \"93\", \"94\", \"95\", \"77\", \"91\", \"78\"]"
   ]
  },
  {
   "cell_type": "markdown",
   "id": "f005a4c1-97d1-4ed7-a5bc-20c741e15e82",
   "metadata": {},
   "source": [
    "**Task**: Show all municipalities in the Île-de-France region."
   ]
  },
  {
   "cell_type": "code",
   "execution_count": null,
   "id": "aaea671e-a037-4b43-88af-a330c526a41e",
   "metadata": {},
   "outputs": [],
   "source": [
    "### Insert code here\n",
    "# ...\n",
    "\n",
    "df_municipalities[\"department_id\"] = df_municipalities[\"municipality_id\"].str[:2]\n",
    "df_municipalities[df_municipalities[\"department_id\"].isin(idf_departments)].plot()"
   ]
  },
  {
   "cell_type": "markdown",
   "id": "3e60b1be-eabd-4ff4-a72a-9454d68df864",
   "metadata": {},
   "source": [
    "**Task**: Now we are ready to cross some information with the spatial data set:\n",
    "- Prepare a data set that contains the number of inhabitants per municipality (`municipality_id`, `inhabitants`)\n",
    "- Perform a merge between your municipality data frame and the inhabitant data frame\n",
    "- Provide the inhabitants column in the `plot` method"
   ]
  },
  {
   "cell_type": "code",
   "execution_count": null,
   "id": "eabe2efa-00d6-468e-8ccc-a2e7b1652ff7",
   "metadata": {},
   "outputs": [],
   "source": [
    "### Insert code here\n",
    "# ...\n",
    "\n",
    "df_inhabitants = df_census.groupby(\"municipality_id\")[\"weight\"].sum().reset_index(name = \"inhabitants\")\n",
    "pd.merge(df_municipalities, df_inhabitants).plot(\"inhabitants\")"
   ]
  },
  {
   "cell_type": "markdown",
   "id": "70d17846-f33e-40c8-b515-5ef348816b6f",
   "metadata": {},
   "source": [
    "**Task**: Plot a population map of Île-de-France with a legend (using `legend = True`)"
   ]
  },
  {
   "cell_type": "code",
   "execution_count": null,
   "id": "71473d86-d29a-4b19-b729-35bcb74f07a1",
   "metadata": {},
   "outputs": [],
   "source": [
    "### Insert code here\n",
    "# ...\n",
    "\n",
    "df_inhabitants = df_census.groupby(\"municipality_id\")[\"weight\"].sum().reset_index(name = \"inhabitants\")\n",
    "pd.merge(df_municipalities[df_municipalities[\"department_id\"].isin(idf_departments)], df_inhabitants).plot(\"inhabitants\")"
   ]
  },
  {
   "cell_type": "markdown",
   "id": "e36ee6f9-b480-440c-b347-bc39eefed4ee",
   "metadata": {},
   "source": [
    "Do you observe anything specific?"
   ]
  },
  {
   "cell_type": "markdown",
   "id": "1b186325-3a37-4df2-b95c-1faabae57a6e",
   "metadata": {},
   "source": [
    "## Aggregated population data"
   ]
  },
  {
   "cell_type": "markdown",
   "id": "aa7bf0d6-b1d2-42c2-85b2-2a2d94a131e3",
   "metadata": {},
   "source": [
    "To solve the issue, INSEE provides aggregated census data sets with less attributes but higher spatial availability. We will make use of a data set that indicates the total population and population per CSP over 15 years for every municipality in France:\n",
    "\n",
    "- The data is available at https://www.insee.fr/fr/statistiques/6543200\n",
    "- Download \"Population en 2019 - IRIS - France hors Mayotte\" in CSV format\n",
    "- Information on the variables is avaialble in \"Dictionnaire des variables\""
   ]
  },
  {
   "cell_type": "markdown",
   "id": "559569f1-91bc-4911-baaf-67774945ba5b",
   "metadata": {},
   "source": [
    "**Task**: Load the data set have a first look\n",
    "- Only load a couple of lines (`nrows=20`) to be sure that you don't exceed your memory\n",
    "- Look at the first few lines and check the explanation of the variables online\n",
    "- How can you obtain the population total per municipality from this data set?\n",
    "- How can you obtain the number of persons per CSP from this data set?"
   ]
  },
  {
   "cell_type": "code",
   "execution_count": null,
   "id": "e3c63415-dc7a-405b-8405-db685078dcad",
   "metadata": {},
   "outputs": [],
   "source": [
    "### Insert code here\n",
    "# ...\n",
    "\n",
    "df_population = pd.read_csv(\"base-ic-evol-struct-pop-2019.CSV\", sep = \";\", nrows = 20)\n",
    "df_population"
   ]
  },
  {
   "cell_type": "markdown",
   "id": "a9a4745c-b8c7-42ce-9593-96a3d0e557b2",
   "metadata": {},
   "source": [
    "**Task**: Transform the data set such that you have each municipality together with the population total and the total of each CSP:"
   ]
  },
  {
   "cell_type": "code",
   "execution_count": null,
   "id": "5a93cf66-36da-417b-ab5c-514b3c414007",
   "metadata": {},
   "outputs": [],
   "source": [
    "pd.DataFrame({ \"municipality_id\": [], \"population\": [], \"csp_1\": [], \"csp_2\": [], \"csp_3\": [], \"csp_...\": [] })"
   ]
  },
  {
   "cell_type": "markdown",
   "id": "91885d7b-a3be-44a4-b757-6f255d19bb04",
   "metadata": {},
   "source": [
    "Hint: The data set is given per IRIS."
   ]
  },
  {
   "cell_type": "code",
   "execution_count": null,
   "id": "c8760fa2-85a7-4efb-9260-f5bef01120b7",
   "metadata": {},
   "outputs": [],
   "source": [
    "### Insert code here\n",
    "# ...\n",
    "\n",
    "# df_population = ...\n",
    "\n",
    "df_population = pd.read_csv(\"base-ic-evol-struct-pop-2019.CSV\", sep = \";\", dtype = {\n",
    "    \"COM\": \"str\"\n",
    "}, usecols = [\"COM\", \"P19_POP\"] + [\"C19_POP15P_CS{}\".format(k) for k in range(1,9)])\n",
    "\n",
    "for k in range(1, 9):\n",
    "    df_population[\"csp_{}\".format(k)] = df_population[\"C19_POP15P_CS{}\".format(k)]\n",
    "    \n",
    "df_population = df_population[[\"COM\", \"P19_POP\"] + [\"csp_{}\".format(k) for k in range(1,9)]]\n",
    "df_population.columns = [\"municipality_id\", \"population\"] + [\"csp_{}\".format(k) for k in range(1,9)]\n",
    "df_population = df_population.groupby(\"municipality_id\").sum().reset_index()"
   ]
  },
  {
   "cell_type": "markdown",
   "id": "4eaa7863-f979-47a7-943a-aadd3065861d",
   "metadata": {},
   "source": [
    "**Task**: Repeat the task from above, create a map of the population in Île-de-France, but with the new data set."
   ]
  },
  {
   "cell_type": "code",
   "execution_count": null,
   "id": "6ca0eea6-db14-412d-91b3-d280c9a1d761",
   "metadata": {},
   "outputs": [],
   "source": [
    "### Insert code here\n",
    "# ...\n",
    "\n",
    "pd.merge(df_municipalities[df_municipalities[\"department_id\"].isin(idf_departments)], df_population).plot(\"population\")"
   ]
  },
  {
   "cell_type": "markdown",
   "id": "f69febde-c786-4619-b47e-94b8def42292",
   "metadata": {},
   "source": [
    "Save the cleaned population data, because we will need it again in a later exercise:"
   ]
  },
  {
   "cell_type": "code",
   "execution_count": null,
   "id": "ddae2e88-9027-464f-b858-9192286f408a",
   "metadata": {},
   "outputs": [],
   "source": [
    "df_population.to_parquet(\"population.parquet\")"
   ]
  },
  {
   "cell_type": "markdown",
   "id": "53185c35-f08a-4437-bbb5-014a95a133a0",
   "metadata": {},
   "source": [
    "Let's do the same with the municipalities spatial data set:"
   ]
  },
  {
   "cell_type": "code",
   "execution_count": null,
   "id": "7fc745f8-662b-497f-b470-1632bce1cef6",
   "metadata": {},
   "outputs": [],
   "source": [
    "df_municipalities.to_parquet(\"municipalities.parquet\")"
   ]
  },
  {
   "cell_type": "markdown",
   "id": "3f95e6e1-fb71-48f8-9577-ea467f11ec18",
   "metadata": {},
   "source": [
    "For mapping, Python can be useful to make a first draft, but there are more elaborate tools available. \n",
    "\n",
    "**Task**: Create a data frame in which the municipality data has been merged with the the population data set, i.e., we want all columns from the population data set and additionally the `geometry` column. Filter for all municipalities in Île-de-France. Save this data frame in GeoPackage format:"
   ]
  },
  {
   "cell_type": "code",
   "execution_count": null,
   "id": "0c11f50d-9ae6-4b21-be8c-fa963498b90d",
   "metadata": {},
   "outputs": [],
   "source": [
    "### Insert code here\n",
    "# ...\n",
    "\n",
    "# df_export = ...\n",
    "\n",
    "df_export = pd.merge(df_municipalities[df_municipalities[\"department_id\"].isin(\n",
    "    idf_departments\n",
    ")], df_population, on = \"municipality_id\")"
   ]
  },
  {
   "cell_type": "code",
   "execution_count": null,
   "id": "faa857c0-6ad3-453a-bfc6-47af9c29d905",
   "metadata": {},
   "outputs": [],
   "source": [
    "df_export.to_file(\"export.gpkg\")"
   ]
  },
  {
   "cell_type": "markdown",
   "id": "e2ce1791-26d3-4e83-8027-5cef4cddc2c5",
   "metadata": {},
   "source": [
    "**Exercise**: Explore the exported data using **QGIS**"
   ]
  },
  {
   "cell_type": "markdown",
   "id": "7b3f3a8f-4a0a-4d46-bf76-f360ba6a0e42",
   "metadata": {},
   "source": [
    "![](qgis.png)"
   ]
  },
  {
   "cell_type": "markdown",
   "id": "7865703c-257b-4c96-b06f-6695fe1ffa82",
   "metadata": {},
   "source": [
    "## Employment"
   ]
  },
  {
   "cell_type": "markdown",
   "id": "3d7b0640-7371-4141-90ab-082787002f01",
   "metadata": {},
   "source": [
    "In a later exercise, we will also need information on employment. Employment data per municipality is avaialble as open data from Urssaf.\n",
    "\n",
    "- Download the data from https://open.urssaf.fr/explore/dataset/etablissements-et-effectifs-salaries-au-niveau-commune-x-ape-last/information/\n",
    "- Go to \"Export\" and export the data as CSV"
   ]
  },
  {
   "cell_type": "markdown",
   "id": "42e11723-3c62-41c4-a152-f125d59a6e40",
   "metadata": {},
   "source": [
    "**Task**: As before, explore the data by first loading a few columns and understanding the content.\n",
    "\n",
    "Hint: To get a better overview of the available columns, try `df.columns`"
   ]
  },
  {
   "cell_type": "code",
   "execution_count": null,
   "id": "e5b9e384-5c36-45aa-82f6-182153956e3e",
   "metadata": {},
   "outputs": [],
   "source": [
    "### Insert code here\n",
    "# ...\n",
    "\n",
    "df_employment = pd.read_csv(\"etablissements-et-effectifs-salaries-au-niveau-commune-x-ape-last.csv\", nrows = 20, sep = \";\")\n",
    "df_employment.head()\n",
    "df_employment.columns"
   ]
  },
  {
   "cell_type": "markdown",
   "id": "0b480540-8771-4c46-ae66-04f84c327b2f",
   "metadata": {},
   "source": [
    "**Task**: Clean the data set such that you have a column indicating the municipality identifier and the number of emloyees in 2019 in that zone.\n",
    "\n",
    "Hint: The data frame is disaggregated over various economic sectors (NAF code), but we want the total!"
   ]
  },
  {
   "cell_type": "code",
   "execution_count": null,
   "id": "41c34b8a-b24c-4cb0-bdd8-9f169301abdc",
   "metadata": {},
   "outputs": [],
   "source": [
    "pd.DataFrame({ \"municipality_id\": [], \"emloyment\": [] })"
   ]
  },
  {
   "cell_type": "code",
   "execution_count": null,
   "id": "b86ad8d5-b34a-4560-9af1-a080ad758d76",
   "metadata": {},
   "outputs": [],
   "source": [
    "### Insert code here\n",
    "# ...\n",
    "\n",
    "# df_employment = ...\n",
    "\n",
    "df_employment = pd.read_csv(\"etablissements-et-effectifs-salaries-au-niveau-commune-x-ape-last.csv\", sep = \";\", \n",
    "    usecols = [\"code_commune\", \"effectifs_salaries_2019\"], dtype = { \"code_commune\": str })\n",
    "\n",
    "df_employment = df_employment.rename(columns = {\n",
    "    \"code_commune\": \"municipality_id\",\n",
    "    \"effectifs_salaries_2019\": \"employment\"\n",
    "})\n",
    "\n",
    "df_employment = df_employment.groupby(\"municipality_id\").sum().reset_index()\n",
    "\n",
    "df_employment.head()"
   ]
  },
  {
   "cell_type": "markdown",
   "id": "ed705d26-c020-45ed-8bc0-75b82cb20b41",
   "metadata": {},
   "source": [
    "**Task**: Plot a map of the number of employees in a department of your choice"
   ]
  },
  {
   "cell_type": "code",
   "execution_count": null,
   "id": "5bf82e97-9382-421b-9c75-30d4430bd9f1",
   "metadata": {},
   "outputs": [],
   "source": [
    "### Insert code here\n",
    "# ...\n",
    "\n",
    "pd.merge(df_municipalities[df_municipalities[\"department_id\"] == \"63\"], df_employment).plot(\"employment\")"
   ]
  },
  {
   "cell_type": "markdown",
   "id": "00051131-4135-4284-8d66-a1e58000a745",
   "metadata": {},
   "source": [
    "Let's save this data for later:"
   ]
  },
  {
   "cell_type": "code",
   "execution_count": null,
   "id": "47aa176e-bcb0-44c4-9f46-1d52e0651c30",
   "metadata": {},
   "outputs": [],
   "source": [
    "df_employment.to_parquet(\"employment.parquet\")"
   ]
  },
  {
   "cell_type": "markdown",
   "id": "4ac82869-c09a-4856-a794-345e98bedc19",
   "metadata": {},
   "source": [
    "## Commuting data"
   ]
  },
  {
   "cell_type": "markdown",
   "id": "eca5f00f-0afe-41af-9583-b2a83ba159b3",
   "metadata": {},
   "source": [
    "Finally, we will have a look at a more complex data set: commuting data. This data set is also available from INSEE and describes how many people living in a specific municipality in France to to any other municipality for work. This data set is known as *MOBPRO*.\n",
    "\n",
    "- Download the data from https://www.insee.fr/fr/statistiques/6456056\n",
    "- Download the data in CSV format"
   ]
  },
  {
   "cell_type": "markdown",
   "id": "068a8246-4a41-4fb4-98d6-86163a9be03f",
   "metadata": {},
   "source": [
    "**Task**: Load the data set with the following columns:\n",
    "- `COMMUNE` : `str`\n",
    "- `ARM` : `str`\n",
    "- `DCLT`: `str`\n",
    "- `IPONDI`: `float`\n",
    "- `TRANS`: `int`"
   ]
  },
  {
   "cell_type": "code",
   "execution_count": null,
   "id": "6208654c-d378-4072-a5af-d2c540b6301b",
   "metadata": {},
   "outputs": [],
   "source": [
    "### Insert code here\n",
    "# ...\n",
    "\n",
    "# df_commutes = ...\n",
    "\n",
    "columns = { \"COMMUNE\": str, \"ARM\": str, \"DCLT\": str, \"IPONDI\": float, \"TRANS\": int }\n",
    "df_commutes = pd.read_csv(\"RP2019_MOBPRO_csv/FD_MOBPRO_2019.csv\", dtype = columns, usecols = columns.keys(), sep = \";\")"
   ]
  },
  {
   "cell_type": "markdown",
   "id": "66f68d58-d45d-4f14-83f0-be86d05156d7",
   "metadata": {},
   "source": [
    "The MOBPRO data set is a bit particular with respect to the spatial identifiers. In fact, `DCLT` describes the destination of a commuters as a municipality identifier. In principle, this is also the case for `COMMUNE` which describes the origin. However, Paris, for instance, is encoded as `75056`, but the actual \"municipality\" (or arrondissement) is contained in `ARM`. If one knows this, there is an easy fix:"
   ]
  },
  {
   "cell_type": "code",
   "execution_count": null,
   "id": "4d26065d-e9e8-4121-bd33-80e492597b4c",
   "metadata": {},
   "outputs": [],
   "source": [
    "f = df_commutes[\"ARM\"] != \"ZZZZZ\"\n",
    "df_commutes.loc[f, \"COMMUNE\"] = df_commutes.loc[f, \"ARM\"]"
   ]
  },
  {
   "cell_type": "markdown",
   "id": "f7cb9a30-9b2d-4d90-8349-248aad092ee7",
   "metadata": {},
   "source": [
    "**Task**: Reformat the data frame so that we have the following format."
   ]
  },
  {
   "cell_type": "code",
   "execution_count": null,
   "id": "54090a26-645f-41aa-b4fa-c318a283804c",
   "metadata": {},
   "outputs": [],
   "source": [
    "pd.DataFrame({ \"origin_id\": [], \"destination_id\": [], \"weight\": [], \"transport_mode\": [] })"
   ]
  },
  {
   "cell_type": "code",
   "execution_count": null,
   "id": "e55152ec-22e7-4653-8a51-46b55b27c4ce",
   "metadata": {},
   "outputs": [],
   "source": [
    "### Insert code here\n",
    "# ...\n",
    "\n",
    "df_commutes = df_commutes.rename(columns = {\n",
    "    \"COMMUNE\": \"origin_id\", \"DCLT\": \"destination_id\", \"IPONDI\": \"weight\", \"TRANS\": \"transport_mode\"\n",
    "})[[\"origin_id\", \"destination_id\", \"weight\", \"transport_mode\"]]"
   ]
  },
  {
   "cell_type": "markdown",
   "id": "128d939c-fa93-421d-a78c-18f93025b1f6",
   "metadata": {},
   "source": [
    "**Task**: Plot a map showing how many people commute from Alfortville (94002) in the south of Paris to any other municipality in Île-de-France **by car**."
   ]
  },
  {
   "cell_type": "code",
   "execution_count": null,
   "id": "eb90ba69-621c-45c4-94c7-3b360d34507b",
   "metadata": {},
   "outputs": [],
   "source": [
    "### Insert code here\n",
    "# ...\n",
    "\n",
    "df = df_commutes[df_commutes[\"transport_mode\"] == 5]\n",
    "df = df[df_commutes[\"origin_id\"] == \"94002\"]\n",
    "df = df.groupby(\"destination_id\")[\"weight\"].sum().reset_index()\n",
    "df = df.rename(columns = { \"destination_id\": \"municipality_id\" })\n",
    "\n",
    "pd.merge(df_municipalities[df_municipalities[\"department_id\"].isin(idf_departments)], df).plot(\"weight\")"
   ]
  },
  {
   "cell_type": "markdown",
   "id": "2ff67755-e84e-4766-8462-16cb219a6f87",
   "metadata": {},
   "source": [
    "**Task**: Plot the same map but for commutes by **public transport**. What do you notice?"
   ]
  },
  {
   "cell_type": "code",
   "execution_count": null,
   "id": "a63cb7a8-9934-448d-bda6-29a00f987012",
   "metadata": {},
   "outputs": [],
   "source": [
    "### Insert code here\n",
    "# ...\n",
    "\n",
    "df = df_commutes[df_commutes[\"transport_mode\"] == 6]\n",
    "df = df[df[\"origin_id\"] == \"94002\"]\n",
    "df = df.groupby(\"destination_id\")[\"weight\"].sum().reset_index()\n",
    "df = df.rename(columns = { \"destination_id\": \"municipality_id\" })\n",
    "\n",
    "pd.merge(df_municipalities[df_municipalities[\"department_id\"].isin(idf_departments)], df).plot(\"weight\")"
   ]
  },
  {
   "cell_type": "markdown",
   "id": "ae19127f-1cdc-4787-82a2-e039fa7e13ff",
   "metadata": {},
   "source": [
    "**Task:** Aggregate the commuting data set further by removing the `transport_mode` column such that we only have the bare commuting flows as a weight between two municipalities. Then, save the data set as `commutes.parquet`, we will need it later on!"
   ]
  },
  {
   "cell_type": "code",
   "execution_count": null,
   "id": "88311e30-67da-4d42-9110-6144496d8489",
   "metadata": {},
   "outputs": [],
   "source": [
    "### Insert code here\n",
    "# ...\n",
    "\n",
    "df_commutes = df_commutes.groupby([\"origin_id\", \"destination_id\"])[\"weight\"].sum().reset_index()\n",
    "df_commutes.to_parquet(\"commutes.parquet\")"
   ]
  },
  {
   "cell_type": "markdown",
   "id": "7153ad3c-63f0-45d5-a12d-dcbc63dea908",
   "metadata": {},
   "source": [
    "**Congratulations!** You can now solve Exercise 1 of the course project."
   ]
  }
 ],
 "metadata": {
  "kernelspec": {
   "display_name": "Python 3 (ipykernel)",
   "language": "python",
   "name": "python3"
  },
  "language_info": {
   "codemirror_mode": {
    "name": "ipython",
    "version": 3
   },
   "file_extension": ".py",
   "mimetype": "text/x-python",
   "name": "python",
   "nbconvert_exporter": "python",
   "pygments_lexer": "ipython3",
   "version": "3.11.7"
  }
 },
 "nbformat": 4,
 "nbformat_minor": 5
}
